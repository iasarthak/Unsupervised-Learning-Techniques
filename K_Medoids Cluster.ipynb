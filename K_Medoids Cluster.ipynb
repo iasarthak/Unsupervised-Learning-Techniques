{
 "cells": [
  {
   "cell_type": "code",
   "execution_count": 17,
   "metadata": {},
   "outputs": [],
   "source": [
    "import pandas as pd\n",
    "import numpy as np\n",
    "import matplotlib.pyplot as plt\n",
    "%matplotlib inline \n",
    "from sklearn.cluster import KMeans\n",
    "from sklearn_extra.cluster import KMedoids\n",
    "from IPython.display import display"
   ]
  },
  {
   "cell_type": "code",
   "execution_count": 2,
   "metadata": {},
   "outputs": [],
   "source": [
    "data=pd.read_csv(\"EWCS_2016.csv\")"
   ]
  },
  {
   "cell_type": "code",
   "execution_count": 3,
   "metadata": {},
   "outputs": [],
   "source": [
    "for i in data.columns:\n",
    "    for j in range(len(data[i])):\n",
    "        if(data.loc[j,i]==-999):\n",
    "            data.loc[j,i]=None"
   ]
  },
  {
   "cell_type": "code",
   "execution_count": 4,
   "metadata": {},
   "outputs": [
    {
     "data": {
      "text/html": [
       "<div>\n",
       "<style scoped>\n",
       "    .dataframe tbody tr th:only-of-type {\n",
       "        vertical-align: middle;\n",
       "    }\n",
       "\n",
       "    .dataframe tbody tr th {\n",
       "        vertical-align: top;\n",
       "    }\n",
       "\n",
       "    .dataframe thead th {\n",
       "        text-align: right;\n",
       "    }\n",
       "</style>\n",
       "<table border=\"1\" class=\"dataframe\">\n",
       "  <thead>\n",
       "    <tr style=\"text-align: right;\">\n",
       "      <th></th>\n",
       "      <th>Q2a</th>\n",
       "      <th>Q2b</th>\n",
       "      <th>Q87a</th>\n",
       "      <th>Q87b</th>\n",
       "      <th>Q87c</th>\n",
       "      <th>Q87d</th>\n",
       "      <th>Q87e</th>\n",
       "      <th>Q90a</th>\n",
       "      <th>Q90b</th>\n",
       "      <th>Q90c</th>\n",
       "      <th>Q90f</th>\n",
       "    </tr>\n",
       "  </thead>\n",
       "  <tbody>\n",
       "    <tr>\n",
       "      <th>0</th>\n",
       "      <td>1.0</td>\n",
       "      <td>63.0</td>\n",
       "      <td>3.0</td>\n",
       "      <td>3.0</td>\n",
       "      <td>3.0</td>\n",
       "      <td>3.0</td>\n",
       "      <td>3.0</td>\n",
       "      <td>2.0</td>\n",
       "      <td>2.0</td>\n",
       "      <td>2.0</td>\n",
       "      <td>2.0</td>\n",
       "    </tr>\n",
       "    <tr>\n",
       "      <th>1</th>\n",
       "      <td>2.0</td>\n",
       "      <td>58.0</td>\n",
       "      <td>2.0</td>\n",
       "      <td>3.0</td>\n",
       "      <td>2.0</td>\n",
       "      <td>3.0</td>\n",
       "      <td>2.0</td>\n",
       "      <td>2.0</td>\n",
       "      <td>3.0</td>\n",
       "      <td>2.0</td>\n",
       "      <td>2.0</td>\n",
       "    </tr>\n",
       "    <tr>\n",
       "      <th>2</th>\n",
       "      <td>2.0</td>\n",
       "      <td>32.0</td>\n",
       "      <td>2.0</td>\n",
       "      <td>2.0</td>\n",
       "      <td>3.0</td>\n",
       "      <td>2.0</td>\n",
       "      <td>3.0</td>\n",
       "      <td>2.0</td>\n",
       "      <td>2.0</td>\n",
       "      <td>2.0</td>\n",
       "      <td>2.0</td>\n",
       "    </tr>\n",
       "    <tr>\n",
       "      <th>3</th>\n",
       "      <td>1.0</td>\n",
       "      <td>35.0</td>\n",
       "      <td>3.0</td>\n",
       "      <td>2.0</td>\n",
       "      <td>2.0</td>\n",
       "      <td>2.0</td>\n",
       "      <td>3.0</td>\n",
       "      <td>2.0</td>\n",
       "      <td>2.0</td>\n",
       "      <td>2.0</td>\n",
       "      <td>2.0</td>\n",
       "    </tr>\n",
       "    <tr>\n",
       "      <th>4</th>\n",
       "      <td>2.0</td>\n",
       "      <td>27.0</td>\n",
       "      <td>2.0</td>\n",
       "      <td>2.0</td>\n",
       "      <td>3.0</td>\n",
       "      <td>3.0</td>\n",
       "      <td>2.0</td>\n",
       "      <td>2.0</td>\n",
       "      <td>4.0</td>\n",
       "      <td>2.0</td>\n",
       "      <td>2.0</td>\n",
       "    </tr>\n",
       "    <tr>\n",
       "      <th>...</th>\n",
       "      <td>...</td>\n",
       "      <td>...</td>\n",
       "      <td>...</td>\n",
       "      <td>...</td>\n",
       "      <td>...</td>\n",
       "      <td>...</td>\n",
       "      <td>...</td>\n",
       "      <td>...</td>\n",
       "      <td>...</td>\n",
       "      <td>...</td>\n",
       "      <td>...</td>\n",
       "    </tr>\n",
       "    <tr>\n",
       "      <th>7808</th>\n",
       "      <td>1.0</td>\n",
       "      <td>35.0</td>\n",
       "      <td>3.0</td>\n",
       "      <td>2.0</td>\n",
       "      <td>3.0</td>\n",
       "      <td>2.0</td>\n",
       "      <td>3.0</td>\n",
       "      <td>4.0</td>\n",
       "      <td>3.0</td>\n",
       "      <td>3.0</td>\n",
       "      <td>2.0</td>\n",
       "    </tr>\n",
       "    <tr>\n",
       "      <th>7809</th>\n",
       "      <td>1.0</td>\n",
       "      <td>53.0</td>\n",
       "      <td>2.0</td>\n",
       "      <td>1.0</td>\n",
       "      <td>2.0</td>\n",
       "      <td>1.0</td>\n",
       "      <td>2.0</td>\n",
       "      <td>1.0</td>\n",
       "      <td>1.0</td>\n",
       "      <td>2.0</td>\n",
       "      <td>2.0</td>\n",
       "    </tr>\n",
       "    <tr>\n",
       "      <th>7810</th>\n",
       "      <td>2.0</td>\n",
       "      <td>39.0</td>\n",
       "      <td>1.0</td>\n",
       "      <td>1.0</td>\n",
       "      <td>1.0</td>\n",
       "      <td>1.0</td>\n",
       "      <td>1.0</td>\n",
       "      <td>2.0</td>\n",
       "      <td>5.0</td>\n",
       "      <td>2.0</td>\n",
       "      <td>1.0</td>\n",
       "    </tr>\n",
       "    <tr>\n",
       "      <th>7811</th>\n",
       "      <td>2.0</td>\n",
       "      <td>75.0</td>\n",
       "      <td>1.0</td>\n",
       "      <td>1.0</td>\n",
       "      <td>1.0</td>\n",
       "      <td>5.0</td>\n",
       "      <td>1.0</td>\n",
       "      <td>1.0</td>\n",
       "      <td>1.0</td>\n",
       "      <td>3.0</td>\n",
       "      <td>1.0</td>\n",
       "    </tr>\n",
       "    <tr>\n",
       "      <th>7812</th>\n",
       "      <td>2.0</td>\n",
       "      <td>46.0</td>\n",
       "      <td>1.0</td>\n",
       "      <td>1.0</td>\n",
       "      <td>1.0</td>\n",
       "      <td>1.0</td>\n",
       "      <td>1.0</td>\n",
       "      <td>1.0</td>\n",
       "      <td>1.0</td>\n",
       "      <td>2.0</td>\n",
       "      <td>1.0</td>\n",
       "    </tr>\n",
       "  </tbody>\n",
       "</table>\n",
       "<p>7813 rows × 11 columns</p>\n",
       "</div>"
      ],
      "text/plain": [
       "      Q2a   Q2b  Q87a  Q87b  Q87c  Q87d  Q87e  Q90a  Q90b  Q90c  Q90f\n",
       "0     1.0  63.0   3.0   3.0   3.0   3.0   3.0   2.0   2.0   2.0   2.0\n",
       "1     2.0  58.0   2.0   3.0   2.0   3.0   2.0   2.0   3.0   2.0   2.0\n",
       "2     2.0  32.0   2.0   2.0   3.0   2.0   3.0   2.0   2.0   2.0   2.0\n",
       "3     1.0  35.0   3.0   2.0   2.0   2.0   3.0   2.0   2.0   2.0   2.0\n",
       "4     2.0  27.0   2.0   2.0   3.0   3.0   2.0   2.0   4.0   2.0   2.0\n",
       "...   ...   ...   ...   ...   ...   ...   ...   ...   ...   ...   ...\n",
       "7808  1.0  35.0   3.0   2.0   3.0   2.0   3.0   4.0   3.0   3.0   2.0\n",
       "7809  1.0  53.0   2.0   1.0   2.0   1.0   2.0   1.0   1.0   2.0   2.0\n",
       "7810  2.0  39.0   1.0   1.0   1.0   1.0   1.0   2.0   5.0   2.0   1.0\n",
       "7811  2.0  75.0   1.0   1.0   1.0   5.0   1.0   1.0   1.0   3.0   1.0\n",
       "7812  2.0  46.0   1.0   1.0   1.0   1.0   1.0   1.0   1.0   2.0   1.0\n",
       "\n",
       "[7813 rows x 11 columns]"
      ]
     },
     "execution_count": 4,
     "metadata": {},
     "output_type": "execute_result"
    }
   ],
   "source": [
    "data"
   ]
  },
  {
   "cell_type": "code",
   "execution_count": 5,
   "metadata": {},
   "outputs": [
    {
     "data": {
      "text/plain": [
       "(7813, 11)"
      ]
     },
     "execution_count": 5,
     "metadata": {},
     "output_type": "execute_result"
    }
   ],
   "source": [
    "data.shape"
   ]
  },
  {
   "cell_type": "code",
   "execution_count": 6,
   "metadata": {},
   "outputs": [
    {
     "data": {
      "text/html": [
       "<div>\n",
       "<style scoped>\n",
       "    .dataframe tbody tr th:only-of-type {\n",
       "        vertical-align: middle;\n",
       "    }\n",
       "\n",
       "    .dataframe tbody tr th {\n",
       "        vertical-align: top;\n",
       "    }\n",
       "\n",
       "    .dataframe thead th {\n",
       "        text-align: right;\n",
       "    }\n",
       "</style>\n",
       "<table border=\"1\" class=\"dataframe\">\n",
       "  <thead>\n",
       "    <tr style=\"text-align: right;\">\n",
       "      <th></th>\n",
       "      <th>Q2a</th>\n",
       "      <th>Q2b</th>\n",
       "      <th>Q87a</th>\n",
       "      <th>Q87b</th>\n",
       "      <th>Q87c</th>\n",
       "      <th>Q87d</th>\n",
       "      <th>Q87e</th>\n",
       "      <th>Q90a</th>\n",
       "      <th>Q90b</th>\n",
       "      <th>Q90c</th>\n",
       "      <th>Q90f</th>\n",
       "    </tr>\n",
       "  </thead>\n",
       "  <tbody>\n",
       "    <tr>\n",
       "      <th>0</th>\n",
       "      <td>1.0</td>\n",
       "      <td>63.0</td>\n",
       "      <td>3.0</td>\n",
       "      <td>3.0</td>\n",
       "      <td>3.0</td>\n",
       "      <td>3.0</td>\n",
       "      <td>3.0</td>\n",
       "      <td>2.0</td>\n",
       "      <td>2.0</td>\n",
       "      <td>2.0</td>\n",
       "      <td>2.0</td>\n",
       "    </tr>\n",
       "    <tr>\n",
       "      <th>1</th>\n",
       "      <td>2.0</td>\n",
       "      <td>58.0</td>\n",
       "      <td>2.0</td>\n",
       "      <td>3.0</td>\n",
       "      <td>2.0</td>\n",
       "      <td>3.0</td>\n",
       "      <td>2.0</td>\n",
       "      <td>2.0</td>\n",
       "      <td>3.0</td>\n",
       "      <td>2.0</td>\n",
       "      <td>2.0</td>\n",
       "    </tr>\n",
       "    <tr>\n",
       "      <th>2</th>\n",
       "      <td>2.0</td>\n",
       "      <td>32.0</td>\n",
       "      <td>2.0</td>\n",
       "      <td>2.0</td>\n",
       "      <td>3.0</td>\n",
       "      <td>2.0</td>\n",
       "      <td>3.0</td>\n",
       "      <td>2.0</td>\n",
       "      <td>2.0</td>\n",
       "      <td>2.0</td>\n",
       "      <td>2.0</td>\n",
       "    </tr>\n",
       "    <tr>\n",
       "      <th>3</th>\n",
       "      <td>1.0</td>\n",
       "      <td>35.0</td>\n",
       "      <td>3.0</td>\n",
       "      <td>2.0</td>\n",
       "      <td>2.0</td>\n",
       "      <td>2.0</td>\n",
       "      <td>3.0</td>\n",
       "      <td>2.0</td>\n",
       "      <td>2.0</td>\n",
       "      <td>2.0</td>\n",
       "      <td>2.0</td>\n",
       "    </tr>\n",
       "    <tr>\n",
       "      <th>4</th>\n",
       "      <td>2.0</td>\n",
       "      <td>27.0</td>\n",
       "      <td>2.0</td>\n",
       "      <td>2.0</td>\n",
       "      <td>3.0</td>\n",
       "      <td>3.0</td>\n",
       "      <td>2.0</td>\n",
       "      <td>2.0</td>\n",
       "      <td>4.0</td>\n",
       "      <td>2.0</td>\n",
       "      <td>2.0</td>\n",
       "    </tr>\n",
       "  </tbody>\n",
       "</table>\n",
       "</div>"
      ],
      "text/plain": [
       "   Q2a   Q2b  Q87a  Q87b  Q87c  Q87d  Q87e  Q90a  Q90b  Q90c  Q90f\n",
       "0  1.0  63.0   3.0   3.0   3.0   3.0   3.0   2.0   2.0   2.0   2.0\n",
       "1  2.0  58.0   2.0   3.0   2.0   3.0   2.0   2.0   3.0   2.0   2.0\n",
       "2  2.0  32.0   2.0   2.0   3.0   2.0   3.0   2.0   2.0   2.0   2.0\n",
       "3  1.0  35.0   3.0   2.0   2.0   2.0   3.0   2.0   2.0   2.0   2.0\n",
       "4  2.0  27.0   2.0   2.0   3.0   3.0   2.0   2.0   4.0   2.0   2.0"
      ]
     },
     "execution_count": 6,
     "metadata": {},
     "output_type": "execute_result"
    }
   ],
   "source": [
    "data.head()"
   ]
  },
  {
   "cell_type": "code",
   "execution_count": 7,
   "metadata": {},
   "outputs": [
    {
     "data": {
      "text/plain": [
       "Q2a      1\n",
       "Q2b     11\n",
       "Q87a    28\n",
       "Q87b    25\n",
       "Q87c    28\n",
       "Q87d    26\n",
       "Q87e    46\n",
       "Q90a    32\n",
       "Q90b    32\n",
       "Q90c    26\n",
       "Q90f    74\n",
       "dtype: int64"
      ]
     },
     "execution_count": 7,
     "metadata": {},
     "output_type": "execute_result"
    }
   ],
   "source": [
    "data.isnull().sum()"
   ]
  },
  {
   "cell_type": "code",
   "execution_count": 8,
   "metadata": {},
   "outputs": [],
   "source": [
    "data.dropna(inplace=True)"
   ]
  },
  {
   "cell_type": "code",
   "execution_count": 9,
   "metadata": {},
   "outputs": [
    {
     "data": {
      "text/plain": [
       "Q2a     0\n",
       "Q2b     0\n",
       "Q87a    0\n",
       "Q87b    0\n",
       "Q87c    0\n",
       "Q87d    0\n",
       "Q87e    0\n",
       "Q90a    0\n",
       "Q90b    0\n",
       "Q90c    0\n",
       "Q90f    0\n",
       "dtype: int64"
      ]
     },
     "execution_count": 9,
     "metadata": {},
     "output_type": "execute_result"
    }
   ],
   "source": [
    "data.isnull().sum()"
   ]
  },
  {
   "cell_type": "code",
   "execution_count": 82,
   "metadata": {},
   "outputs": [],
   "source": [
    "kmedoids = KMedoids(n_clusters=2)"
   ]
  },
  {
   "cell_type": "code",
   "execution_count": 83,
   "metadata": {},
   "outputs": [
    {
     "data": {
      "text/plain": [
       "KMedoids(n_clusters=2)"
      ]
     },
     "execution_count": 83,
     "metadata": {},
     "output_type": "execute_result"
    }
   ],
   "source": [
    "kmedoids.fit(data)"
   ]
  },
  {
   "cell_type": "code",
   "execution_count": 84,
   "metadata": {},
   "outputs": [],
   "source": [
    "pred=kmedoids.predict(data)"
   ]
  },
  {
   "cell_type": "code",
   "execution_count": 85,
   "metadata": {},
   "outputs": [
    {
     "data": {
      "text/plain": [
       "array([0, 0, 1, ..., 1, 0, 0], dtype=int64)"
      ]
     },
     "execution_count": 85,
     "metadata": {},
     "output_type": "execute_result"
    }
   ],
   "source": [
    "pred"
   ]
  },
  {
   "cell_type": "code",
   "execution_count": 86,
   "metadata": {},
   "outputs": [
    {
     "data": {
      "text/plain": [
       "0    3834\n",
       "1    3813\n",
       "dtype: int64"
      ]
     },
     "execution_count": 86,
     "metadata": {},
     "output_type": "execute_result"
    }
   ],
   "source": [
    "pd.Series(pred).value_counts()"
   ]
  },
  {
   "cell_type": "code",
   "execution_count": 87,
   "metadata": {},
   "outputs": [
    {
     "data": {
      "text/plain": [
       "52646.43480105408"
      ]
     },
     "execution_count": 87,
     "metadata": {},
     "output_type": "execute_result"
    }
   ],
   "source": [
    "kmedoids.inertia_"
   ]
  },
  {
   "cell_type": "code",
   "execution_count": 88,
   "metadata": {
    "collapsed": true
   },
   "outputs": [
    {
     "name": "stderr",
     "output_type": "stream",
     "text": [
      "C:\\ProgramData\\Anaconda3\\lib\\site-packages\\sklearn_extra\\cluster\\_k_medoids.py:235: UserWarning: Cluster 2 is empty! self.labels_[self.medoid_indices_[2]] may not be labeled with its corresponding cluster (2).\n",
      "  \"its corresponding cluster ({k}).\".format(k=k)\n",
      "C:\\ProgramData\\Anaconda3\\lib\\site-packages\\sklearn_extra\\cluster\\_k_medoids.py:235: UserWarning: Cluster 2 is empty! self.labels_[self.medoid_indices_[2]] may not be labeled with its corresponding cluster (2).\n",
      "  \"its corresponding cluster ({k}).\".format(k=k)\n",
      "C:\\ProgramData\\Anaconda3\\lib\\site-packages\\sklearn_extra\\cluster\\_k_medoids.py:235: UserWarning: Cluster 3 is empty! self.labels_[self.medoid_indices_[3]] may not be labeled with its corresponding cluster (3).\n",
      "  \"its corresponding cluster ({k}).\".format(k=k)\n",
      "C:\\ProgramData\\Anaconda3\\lib\\site-packages\\sklearn_extra\\cluster\\_k_medoids.py:235: UserWarning: Cluster 2 is empty! self.labels_[self.medoid_indices_[2]] may not be labeled with its corresponding cluster (2).\n",
      "  \"its corresponding cluster ({k}).\".format(k=k)\n",
      "C:\\ProgramData\\Anaconda3\\lib\\site-packages\\sklearn_extra\\cluster\\_k_medoids.py:235: UserWarning: Cluster 3 is empty! self.labels_[self.medoid_indices_[3]] may not be labeled with its corresponding cluster (3).\n",
      "  \"its corresponding cluster ({k}).\".format(k=k)\n",
      "C:\\ProgramData\\Anaconda3\\lib\\site-packages\\sklearn_extra\\cluster\\_k_medoids.py:235: UserWarning: Cluster 2 is empty! self.labels_[self.medoid_indices_[2]] may not be labeled with its corresponding cluster (2).\n",
      "  \"its corresponding cluster ({k}).\".format(k=k)\n",
      "C:\\ProgramData\\Anaconda3\\lib\\site-packages\\sklearn_extra\\cluster\\_k_medoids.py:235: UserWarning: Cluster 3 is empty! self.labels_[self.medoid_indices_[3]] may not be labeled with its corresponding cluster (3).\n",
      "  \"its corresponding cluster ({k}).\".format(k=k)\n",
      "C:\\ProgramData\\Anaconda3\\lib\\site-packages\\sklearn_extra\\cluster\\_k_medoids.py:235: UserWarning: Cluster 2 is empty! self.labels_[self.medoid_indices_[2]] may not be labeled with its corresponding cluster (2).\n",
      "  \"its corresponding cluster ({k}).\".format(k=k)\n",
      "C:\\ProgramData\\Anaconda3\\lib\\site-packages\\sklearn_extra\\cluster\\_k_medoids.py:235: UserWarning: Cluster 3 is empty! self.labels_[self.medoid_indices_[3]] may not be labeled with its corresponding cluster (3).\n",
      "  \"its corresponding cluster ({k}).\".format(k=k)\n",
      "C:\\ProgramData\\Anaconda3\\lib\\site-packages\\sklearn_extra\\cluster\\_k_medoids.py:235: UserWarning: Cluster 2 is empty! self.labels_[self.medoid_indices_[2]] may not be labeled with its corresponding cluster (2).\n",
      "  \"its corresponding cluster ({k}).\".format(k=k)\n",
      "C:\\ProgramData\\Anaconda3\\lib\\site-packages\\sklearn_extra\\cluster\\_k_medoids.py:235: UserWarning: Cluster 3 is empty! self.labels_[self.medoid_indices_[3]] may not be labeled with its corresponding cluster (3).\n",
      "  \"its corresponding cluster ({k}).\".format(k=k)\n",
      "C:\\ProgramData\\Anaconda3\\lib\\site-packages\\sklearn_extra\\cluster\\_k_medoids.py:235: UserWarning: Cluster 7 is empty! self.labels_[self.medoid_indices_[7]] may not be labeled with its corresponding cluster (7).\n",
      "  \"its corresponding cluster ({k}).\".format(k=k)\n",
      "C:\\ProgramData\\Anaconda3\\lib\\site-packages\\sklearn_extra\\cluster\\_k_medoids.py:235: UserWarning: Cluster 2 is empty! self.labels_[self.medoid_indices_[2]] may not be labeled with its corresponding cluster (2).\n",
      "  \"its corresponding cluster ({k}).\".format(k=k)\n",
      "C:\\ProgramData\\Anaconda3\\lib\\site-packages\\sklearn_extra\\cluster\\_k_medoids.py:235: UserWarning: Cluster 3 is empty! self.labels_[self.medoid_indices_[3]] may not be labeled with its corresponding cluster (3).\n",
      "  \"its corresponding cluster ({k}).\".format(k=k)\n",
      "C:\\ProgramData\\Anaconda3\\lib\\site-packages\\sklearn_extra\\cluster\\_k_medoids.py:235: UserWarning: Cluster 7 is empty! self.labels_[self.medoid_indices_[7]] may not be labeled with its corresponding cluster (7).\n",
      "  \"its corresponding cluster ({k}).\".format(k=k)\n",
      "C:\\ProgramData\\Anaconda3\\lib\\site-packages\\sklearn_extra\\cluster\\_k_medoids.py:235: UserWarning: Cluster 8 is empty! self.labels_[self.medoid_indices_[8]] may not be labeled with its corresponding cluster (8).\n",
      "  \"its corresponding cluster ({k}).\".format(k=k)\n",
      "C:\\ProgramData\\Anaconda3\\lib\\site-packages\\sklearn_extra\\cluster\\_k_medoids.py:235: UserWarning: Cluster 2 is empty! self.labels_[self.medoid_indices_[2]] may not be labeled with its corresponding cluster (2).\n",
      "  \"its corresponding cluster ({k}).\".format(k=k)\n",
      "C:\\ProgramData\\Anaconda3\\lib\\site-packages\\sklearn_extra\\cluster\\_k_medoids.py:235: UserWarning: Cluster 3 is empty! self.labels_[self.medoid_indices_[3]] may not be labeled with its corresponding cluster (3).\n",
      "  \"its corresponding cluster ({k}).\".format(k=k)\n",
      "C:\\ProgramData\\Anaconda3\\lib\\site-packages\\sklearn_extra\\cluster\\_k_medoids.py:235: UserWarning: Cluster 7 is empty! self.labels_[self.medoid_indices_[7]] may not be labeled with its corresponding cluster (7).\n",
      "  \"its corresponding cluster ({k}).\".format(k=k)\n",
      "C:\\ProgramData\\Anaconda3\\lib\\site-packages\\sklearn_extra\\cluster\\_k_medoids.py:235: UserWarning: Cluster 8 is empty! self.labels_[self.medoid_indices_[8]] may not be labeled with its corresponding cluster (8).\n",
      "  \"its corresponding cluster ({k}).\".format(k=k)\n",
      "C:\\ProgramData\\Anaconda3\\lib\\site-packages\\sklearn_extra\\cluster\\_k_medoids.py:235: UserWarning: Cluster 2 is empty! self.labels_[self.medoid_indices_[2]] may not be labeled with its corresponding cluster (2).\n",
      "  \"its corresponding cluster ({k}).\".format(k=k)\n",
      "C:\\ProgramData\\Anaconda3\\lib\\site-packages\\sklearn_extra\\cluster\\_k_medoids.py:235: UserWarning: Cluster 3 is empty! self.labels_[self.medoid_indices_[3]] may not be labeled with its corresponding cluster (3).\n",
      "  \"its corresponding cluster ({k}).\".format(k=k)\n",
      "C:\\ProgramData\\Anaconda3\\lib\\site-packages\\sklearn_extra\\cluster\\_k_medoids.py:235: UserWarning: Cluster 8 is empty! self.labels_[self.medoid_indices_[8]] may not be labeled with its corresponding cluster (8).\n",
      "  \"its corresponding cluster ({k}).\".format(k=k)\n",
      "C:\\ProgramData\\Anaconda3\\lib\\site-packages\\sklearn_extra\\cluster\\_k_medoids.py:235: UserWarning: Cluster 9 is empty! self.labels_[self.medoid_indices_[9]] may not be labeled with its corresponding cluster (9).\n",
      "  \"its corresponding cluster ({k}).\".format(k=k)\n",
      "C:\\ProgramData\\Anaconda3\\lib\\site-packages\\sklearn_extra\\cluster\\_k_medoids.py:235: UserWarning: Cluster 2 is empty! self.labels_[self.medoid_indices_[2]] may not be labeled with its corresponding cluster (2).\n",
      "  \"its corresponding cluster ({k}).\".format(k=k)\n",
      "C:\\ProgramData\\Anaconda3\\lib\\site-packages\\sklearn_extra\\cluster\\_k_medoids.py:235: UserWarning: Cluster 3 is empty! self.labels_[self.medoid_indices_[3]] may not be labeled with its corresponding cluster (3).\n",
      "  \"its corresponding cluster ({k}).\".format(k=k)\n",
      "C:\\ProgramData\\Anaconda3\\lib\\site-packages\\sklearn_extra\\cluster\\_k_medoids.py:235: UserWarning: Cluster 8 is empty! self.labels_[self.medoid_indices_[8]] may not be labeled with its corresponding cluster (8).\n",
      "  \"its corresponding cluster ({k}).\".format(k=k)\n",
      "C:\\ProgramData\\Anaconda3\\lib\\site-packages\\sklearn_extra\\cluster\\_k_medoids.py:235: UserWarning: Cluster 9 is empty! self.labels_[self.medoid_indices_[9]] may not be labeled with its corresponding cluster (9).\n",
      "  \"its corresponding cluster ({k}).\".format(k=k)\n",
      "C:\\ProgramData\\Anaconda3\\lib\\site-packages\\sklearn_extra\\cluster\\_k_medoids.py:235: UserWarning: Cluster 2 is empty! self.labels_[self.medoid_indices_[2]] may not be labeled with its corresponding cluster (2).\n",
      "  \"its corresponding cluster ({k}).\".format(k=k)\n",
      "C:\\ProgramData\\Anaconda3\\lib\\site-packages\\sklearn_extra\\cluster\\_k_medoids.py:235: UserWarning: Cluster 3 is empty! self.labels_[self.medoid_indices_[3]] may not be labeled with its corresponding cluster (3).\n",
      "  \"its corresponding cluster ({k}).\".format(k=k)\n",
      "C:\\ProgramData\\Anaconda3\\lib\\site-packages\\sklearn_extra\\cluster\\_k_medoids.py:235: UserWarning: Cluster 8 is empty! self.labels_[self.medoid_indices_[8]] may not be labeled with its corresponding cluster (8).\n",
      "  \"its corresponding cluster ({k}).\".format(k=k)\n",
      "C:\\ProgramData\\Anaconda3\\lib\\site-packages\\sklearn_extra\\cluster\\_k_medoids.py:235: UserWarning: Cluster 9 is empty! self.labels_[self.medoid_indices_[9]] may not be labeled with its corresponding cluster (9).\n",
      "  \"its corresponding cluster ({k}).\".format(k=k)\n"
     ]
    },
    {
     "name": "stderr",
     "output_type": "stream",
     "text": [
      "C:\\ProgramData\\Anaconda3\\lib\\site-packages\\sklearn_extra\\cluster\\_k_medoids.py:235: UserWarning: Cluster 2 is empty! self.labels_[self.medoid_indices_[2]] may not be labeled with its corresponding cluster (2).\n",
      "  \"its corresponding cluster ({k}).\".format(k=k)\n",
      "C:\\ProgramData\\Anaconda3\\lib\\site-packages\\sklearn_extra\\cluster\\_k_medoids.py:235: UserWarning: Cluster 3 is empty! self.labels_[self.medoid_indices_[3]] may not be labeled with its corresponding cluster (3).\n",
      "  \"its corresponding cluster ({k}).\".format(k=k)\n",
      "C:\\ProgramData\\Anaconda3\\lib\\site-packages\\sklearn_extra\\cluster\\_k_medoids.py:235: UserWarning: Cluster 8 is empty! self.labels_[self.medoid_indices_[8]] may not be labeled with its corresponding cluster (8).\n",
      "  \"its corresponding cluster ({k}).\".format(k=k)\n",
      "C:\\ProgramData\\Anaconda3\\lib\\site-packages\\sklearn_extra\\cluster\\_k_medoids.py:235: UserWarning: Cluster 9 is empty! self.labels_[self.medoid_indices_[9]] may not be labeled with its corresponding cluster (9).\n",
      "  \"its corresponding cluster ({k}).\".format(k=k)\n",
      "C:\\ProgramData\\Anaconda3\\lib\\site-packages\\sklearn_extra\\cluster\\_k_medoids.py:235: UserWarning: Cluster 2 is empty! self.labels_[self.medoid_indices_[2]] may not be labeled with its corresponding cluster (2).\n",
      "  \"its corresponding cluster ({k}).\".format(k=k)\n",
      "C:\\ProgramData\\Anaconda3\\lib\\site-packages\\sklearn_extra\\cluster\\_k_medoids.py:235: UserWarning: Cluster 3 is empty! self.labels_[self.medoid_indices_[3]] may not be labeled with its corresponding cluster (3).\n",
      "  \"its corresponding cluster ({k}).\".format(k=k)\n",
      "C:\\ProgramData\\Anaconda3\\lib\\site-packages\\sklearn_extra\\cluster\\_k_medoids.py:235: UserWarning: Cluster 8 is empty! self.labels_[self.medoid_indices_[8]] may not be labeled with its corresponding cluster (8).\n",
      "  \"its corresponding cluster ({k}).\".format(k=k)\n",
      "C:\\ProgramData\\Anaconda3\\lib\\site-packages\\sklearn_extra\\cluster\\_k_medoids.py:235: UserWarning: Cluster 9 is empty! self.labels_[self.medoid_indices_[9]] may not be labeled with its corresponding cluster (9).\n",
      "  \"its corresponding cluster ({k}).\".format(k=k)\n",
      "C:\\ProgramData\\Anaconda3\\lib\\site-packages\\sklearn_extra\\cluster\\_k_medoids.py:235: UserWarning: Cluster 14 is empty! self.labels_[self.medoid_indices_[14]] may not be labeled with its corresponding cluster (14).\n",
      "  \"its corresponding cluster ({k}).\".format(k=k)\n",
      "C:\\ProgramData\\Anaconda3\\lib\\site-packages\\sklearn_extra\\cluster\\_k_medoids.py:235: UserWarning: Cluster 2 is empty! self.labels_[self.medoid_indices_[2]] may not be labeled with its corresponding cluster (2).\n",
      "  \"its corresponding cluster ({k}).\".format(k=k)\n",
      "C:\\ProgramData\\Anaconda3\\lib\\site-packages\\sklearn_extra\\cluster\\_k_medoids.py:235: UserWarning: Cluster 3 is empty! self.labels_[self.medoid_indices_[3]] may not be labeled with its corresponding cluster (3).\n",
      "  \"its corresponding cluster ({k}).\".format(k=k)\n",
      "C:\\ProgramData\\Anaconda3\\lib\\site-packages\\sklearn_extra\\cluster\\_k_medoids.py:235: UserWarning: Cluster 8 is empty! self.labels_[self.medoid_indices_[8]] may not be labeled with its corresponding cluster (8).\n",
      "  \"its corresponding cluster ({k}).\".format(k=k)\n",
      "C:\\ProgramData\\Anaconda3\\lib\\site-packages\\sklearn_extra\\cluster\\_k_medoids.py:235: UserWarning: Cluster 9 is empty! self.labels_[self.medoid_indices_[9]] may not be labeled with its corresponding cluster (9).\n",
      "  \"its corresponding cluster ({k}).\".format(k=k)\n",
      "C:\\ProgramData\\Anaconda3\\lib\\site-packages\\sklearn_extra\\cluster\\_k_medoids.py:235: UserWarning: Cluster 14 is empty! self.labels_[self.medoid_indices_[14]] may not be labeled with its corresponding cluster (14).\n",
      "  \"its corresponding cluster ({k}).\".format(k=k)\n",
      "C:\\ProgramData\\Anaconda3\\lib\\site-packages\\sklearn_extra\\cluster\\_k_medoids.py:235: UserWarning: Cluster 2 is empty! self.labels_[self.medoid_indices_[2]] may not be labeled with its corresponding cluster (2).\n",
      "  \"its corresponding cluster ({k}).\".format(k=k)\n",
      "C:\\ProgramData\\Anaconda3\\lib\\site-packages\\sklearn_extra\\cluster\\_k_medoids.py:235: UserWarning: Cluster 3 is empty! self.labels_[self.medoid_indices_[3]] may not be labeled with its corresponding cluster (3).\n",
      "  \"its corresponding cluster ({k}).\".format(k=k)\n",
      "C:\\ProgramData\\Anaconda3\\lib\\site-packages\\sklearn_extra\\cluster\\_k_medoids.py:235: UserWarning: Cluster 8 is empty! self.labels_[self.medoid_indices_[8]] may not be labeled with its corresponding cluster (8).\n",
      "  \"its corresponding cluster ({k}).\".format(k=k)\n",
      "C:\\ProgramData\\Anaconda3\\lib\\site-packages\\sklearn_extra\\cluster\\_k_medoids.py:235: UserWarning: Cluster 9 is empty! self.labels_[self.medoid_indices_[9]] may not be labeled with its corresponding cluster (9).\n",
      "  \"its corresponding cluster ({k}).\".format(k=k)\n",
      "C:\\ProgramData\\Anaconda3\\lib\\site-packages\\sklearn_extra\\cluster\\_k_medoids.py:235: UserWarning: Cluster 14 is empty! self.labels_[self.medoid_indices_[14]] may not be labeled with its corresponding cluster (14).\n",
      "  \"its corresponding cluster ({k}).\".format(k=k)\n",
      "C:\\ProgramData\\Anaconda3\\lib\\site-packages\\sklearn_extra\\cluster\\_k_medoids.py:235: UserWarning: Cluster 16 is empty! self.labels_[self.medoid_indices_[16]] may not be labeled with its corresponding cluster (16).\n",
      "  \"its corresponding cluster ({k}).\".format(k=k)\n",
      "C:\\ProgramData\\Anaconda3\\lib\\site-packages\\sklearn_extra\\cluster\\_k_medoids.py:235: UserWarning: Cluster 2 is empty! self.labels_[self.medoid_indices_[2]] may not be labeled with its corresponding cluster (2).\n",
      "  \"its corresponding cluster ({k}).\".format(k=k)\n",
      "C:\\ProgramData\\Anaconda3\\lib\\site-packages\\sklearn_extra\\cluster\\_k_medoids.py:235: UserWarning: Cluster 3 is empty! self.labels_[self.medoid_indices_[3]] may not be labeled with its corresponding cluster (3).\n",
      "  \"its corresponding cluster ({k}).\".format(k=k)\n",
      "C:\\ProgramData\\Anaconda3\\lib\\site-packages\\sklearn_extra\\cluster\\_k_medoids.py:235: UserWarning: Cluster 8 is empty! self.labels_[self.medoid_indices_[8]] may not be labeled with its corresponding cluster (8).\n",
      "  \"its corresponding cluster ({k}).\".format(k=k)\n",
      "C:\\ProgramData\\Anaconda3\\lib\\site-packages\\sklearn_extra\\cluster\\_k_medoids.py:235: UserWarning: Cluster 9 is empty! self.labels_[self.medoid_indices_[9]] may not be labeled with its corresponding cluster (9).\n",
      "  \"its corresponding cluster ({k}).\".format(k=k)\n",
      "C:\\ProgramData\\Anaconda3\\lib\\site-packages\\sklearn_extra\\cluster\\_k_medoids.py:235: UserWarning: Cluster 14 is empty! self.labels_[self.medoid_indices_[14]] may not be labeled with its corresponding cluster (14).\n",
      "  \"its corresponding cluster ({k}).\".format(k=k)\n",
      "C:\\ProgramData\\Anaconda3\\lib\\site-packages\\sklearn_extra\\cluster\\_k_medoids.py:235: UserWarning: Cluster 16 is empty! self.labels_[self.medoid_indices_[16]] may not be labeled with its corresponding cluster (16).\n",
      "  \"its corresponding cluster ({k}).\".format(k=k)\n",
      "C:\\ProgramData\\Anaconda3\\lib\\site-packages\\sklearn_extra\\cluster\\_k_medoids.py:235: UserWarning: Cluster 2 is empty! self.labels_[self.medoid_indices_[2]] may not be labeled with its corresponding cluster (2).\n",
      "  \"its corresponding cluster ({k}).\".format(k=k)\n",
      "C:\\ProgramData\\Anaconda3\\lib\\site-packages\\sklearn_extra\\cluster\\_k_medoids.py:235: UserWarning: Cluster 9 is empty! self.labels_[self.medoid_indices_[9]] may not be labeled with its corresponding cluster (9).\n",
      "  \"its corresponding cluster ({k}).\".format(k=k)\n",
      "C:\\ProgramData\\Anaconda3\\lib\\site-packages\\sklearn_extra\\cluster\\_k_medoids.py:235: UserWarning: Cluster 10 is empty! self.labels_[self.medoid_indices_[10]] may not be labeled with its corresponding cluster (10).\n",
      "  \"its corresponding cluster ({k}).\".format(k=k)\n",
      "C:\\ProgramData\\Anaconda3\\lib\\site-packages\\sklearn_extra\\cluster\\_k_medoids.py:235: UserWarning: Cluster 13 is empty! self.labels_[self.medoid_indices_[13]] may not be labeled with its corresponding cluster (13).\n",
      "  \"its corresponding cluster ({k}).\".format(k=k)\n",
      "C:\\ProgramData\\Anaconda3\\lib\\site-packages\\sklearn_extra\\cluster\\_k_medoids.py:235: UserWarning: Cluster 15 is empty! self.labels_[self.medoid_indices_[15]] may not be labeled with its corresponding cluster (15).\n",
      "  \"its corresponding cluster ({k}).\".format(k=k)\n",
      "C:\\ProgramData\\Anaconda3\\lib\\site-packages\\sklearn_extra\\cluster\\_k_medoids.py:235: UserWarning: Cluster 17 is empty! self.labels_[self.medoid_indices_[17]] may not be labeled with its corresponding cluster (17).\n",
      "  \"its corresponding cluster ({k}).\".format(k=k)\n"
     ]
    }
   ],
   "source": [
    "SSE = []\n",
    "for cluster in range(2,20):\n",
    "    kmedoids = KMedoids(n_clusters = cluster)\n",
    "    kmedoids.fit(data)\n",
    "    SSE.append(kmedoids.inertia_)"
   ]
  },
  {
   "cell_type": "code",
   "execution_count": 89,
   "metadata": {},
   "outputs": [],
   "source": [
    "frame = pd.DataFrame({'Cluster':range(2,20), 'SSE':SSE})"
   ]
  },
  {
   "cell_type": "code",
   "execution_count": 90,
   "metadata": {},
   "outputs": [
    {
     "data": {
      "text/plain": [
       "Text(0, 0.5, 'Inertia')"
      ]
     },
     "execution_count": 90,
     "metadata": {},
     "output_type": "execute_result"
    },
    {
     "data": {
      "image/png": "[encoded data removed]",
      "text/plain": [
       "<Figure size 864x432 with 1 Axes>"
      ]
     },
     "metadata": {
      "needs_background": "light"
     },
     "output_type": "display_data"
    }
   ],
   "source": [
    "plt.figure(figsize=(12,6))\n",
    "plt.plot(frame['Cluster'], frame['SSE'], marker='o')\n",
    "plt.xlabel('Number of clusters')\n",
    "plt.ylabel('Inertia')"
   ]
  },
  {
   "cell_type": "code",
   "execution_count": 10,
   "metadata": {},
   "outputs": [],
   "source": [
    "from sklearn.preprocessing import StandardScaler\n",
    "\n",
    "scaler = StandardScaler()\n",
    "\n",
    "data_scaled = scaler.fit_transform(data)"
   ]
  },
  {
   "cell_type": "code",
   "execution_count": 92,
   "metadata": {},
   "outputs": [
    {
     "name": "stderr",
     "output_type": "stream",
     "text": [
      "C:\\ProgramData\\Anaconda3\\lib\\site-packages\\sklearn_extra\\cluster\\_k_medoids.py:235: UserWarning: Cluster 2 is empty! self.labels_[self.medoid_indices_[2]] may not be labeled with its corresponding cluster (2).\n",
      "  \"its corresponding cluster ({k}).\".format(k=k)\n",
      "C:\\ProgramData\\Anaconda3\\lib\\site-packages\\sklearn_extra\\cluster\\_k_medoids.py:235: UserWarning: Cluster 2 is empty! self.labels_[self.medoid_indices_[2]] may not be labeled with its corresponding cluster (2).\n",
      "  \"its corresponding cluster ({k}).\".format(k=k)\n",
      "C:\\ProgramData\\Anaconda3\\lib\\site-packages\\sklearn_extra\\cluster\\_k_medoids.py:235: UserWarning: Cluster 3 is empty! self.labels_[self.medoid_indices_[3]] may not be labeled with its corresponding cluster (3).\n",
      "  \"its corresponding cluster ({k}).\".format(k=k)\n",
      "C:\\ProgramData\\Anaconda3\\lib\\site-packages\\sklearn_extra\\cluster\\_k_medoids.py:235: UserWarning: Cluster 2 is empty! self.labels_[self.medoid_indices_[2]] may not be labeled with its corresponding cluster (2).\n",
      "  \"its corresponding cluster ({k}).\".format(k=k)\n",
      "C:\\ProgramData\\Anaconda3\\lib\\site-packages\\sklearn_extra\\cluster\\_k_medoids.py:235: UserWarning: Cluster 3 is empty! self.labels_[self.medoid_indices_[3]] may not be labeled with its corresponding cluster (3).\n",
      "  \"its corresponding cluster ({k}).\".format(k=k)\n",
      "C:\\ProgramData\\Anaconda3\\lib\\site-packages\\sklearn_extra\\cluster\\_k_medoids.py:235: UserWarning: Cluster 2 is empty! self.labels_[self.medoid_indices_[2]] may not be labeled with its corresponding cluster (2).\n",
      "  \"its corresponding cluster ({k}).\".format(k=k)\n",
      "C:\\ProgramData\\Anaconda3\\lib\\site-packages\\sklearn_extra\\cluster\\_k_medoids.py:235: UserWarning: Cluster 3 is empty! self.labels_[self.medoid_indices_[3]] may not be labeled with its corresponding cluster (3).\n",
      "  \"its corresponding cluster ({k}).\".format(k=k)\n",
      "C:\\ProgramData\\Anaconda3\\lib\\site-packages\\sklearn_extra\\cluster\\_k_medoids.py:235: UserWarning: Cluster 2 is empty! self.labels_[self.medoid_indices_[2]] may not be labeled with its corresponding cluster (2).\n",
      "  \"its corresponding cluster ({k}).\".format(k=k)\n",
      "C:\\ProgramData\\Anaconda3\\lib\\site-packages\\sklearn_extra\\cluster\\_k_medoids.py:235: UserWarning: Cluster 3 is empty! self.labels_[self.medoid_indices_[3]] may not be labeled with its corresponding cluster (3).\n",
      "  \"its corresponding cluster ({k}).\".format(k=k)\n",
      "C:\\ProgramData\\Anaconda3\\lib\\site-packages\\sklearn_extra\\cluster\\_k_medoids.py:235: UserWarning: Cluster 2 is empty! self.labels_[self.medoid_indices_[2]] may not be labeled with its corresponding cluster (2).\n",
      "  \"its corresponding cluster ({k}).\".format(k=k)\n",
      "C:\\ProgramData\\Anaconda3\\lib\\site-packages\\sklearn_extra\\cluster\\_k_medoids.py:235: UserWarning: Cluster 3 is empty! self.labels_[self.medoid_indices_[3]] may not be labeled with its corresponding cluster (3).\n",
      "  \"its corresponding cluster ({k}).\".format(k=k)\n",
      "C:\\ProgramData\\Anaconda3\\lib\\site-packages\\sklearn_extra\\cluster\\_k_medoids.py:235: UserWarning: Cluster 2 is empty! self.labels_[self.medoid_indices_[2]] may not be labeled with its corresponding cluster (2).\n",
      "  \"its corresponding cluster ({k}).\".format(k=k)\n",
      "C:\\ProgramData\\Anaconda3\\lib\\site-packages\\sklearn_extra\\cluster\\_k_medoids.py:235: UserWarning: Cluster 3 is empty! self.labels_[self.medoid_indices_[3]] may not be labeled with its corresponding cluster (3).\n",
      "  \"its corresponding cluster ({k}).\".format(k=k)\n",
      "C:\\ProgramData\\Anaconda3\\lib\\site-packages\\sklearn_extra\\cluster\\_k_medoids.py:235: UserWarning: Cluster 2 is empty! self.labels_[self.medoid_indices_[2]] may not be labeled with its corresponding cluster (2).\n",
      "  \"its corresponding cluster ({k}).\".format(k=k)\n",
      "C:\\ProgramData\\Anaconda3\\lib\\site-packages\\sklearn_extra\\cluster\\_k_medoids.py:235: UserWarning: Cluster 3 is empty! self.labels_[self.medoid_indices_[3]] may not be labeled with its corresponding cluster (3).\n",
      "  \"its corresponding cluster ({k}).\".format(k=k)\n",
      "C:\\ProgramData\\Anaconda3\\lib\\site-packages\\sklearn_extra\\cluster\\_k_medoids.py:235: UserWarning: Cluster 2 is empty! self.labels_[self.medoid_indices_[2]] may not be labeled with its corresponding cluster (2).\n",
      "  \"its corresponding cluster ({k}).\".format(k=k)\n",
      "C:\\ProgramData\\Anaconda3\\lib\\site-packages\\sklearn_extra\\cluster\\_k_medoids.py:235: UserWarning: Cluster 3 is empty! self.labels_[self.medoid_indices_[3]] may not be labeled with its corresponding cluster (3).\n",
      "  \"its corresponding cluster ({k}).\".format(k=k)\n",
      "C:\\ProgramData\\Anaconda3\\lib\\site-packages\\sklearn_extra\\cluster\\_k_medoids.py:235: UserWarning: Cluster 10 is empty! self.labels_[self.medoid_indices_[10]] may not be labeled with its corresponding cluster (10).\n",
      "  \"its corresponding cluster ({k}).\".format(k=k)\n",
      "C:\\ProgramData\\Anaconda3\\lib\\site-packages\\sklearn_extra\\cluster\\_k_medoids.py:235: UserWarning: Cluster 5 is empty! self.labels_[self.medoid_indices_[5]] may not be labeled with its corresponding cluster (5).\n",
      "  \"its corresponding cluster ({k}).\".format(k=k)\n",
      "C:\\ProgramData\\Anaconda3\\lib\\site-packages\\sklearn_extra\\cluster\\_k_medoids.py:235: UserWarning: Cluster 7 is empty! self.labels_[self.medoid_indices_[7]] may not be labeled with its corresponding cluster (7).\n",
      "  \"its corresponding cluster ({k}).\".format(k=k)\n",
      "C:\\ProgramData\\Anaconda3\\lib\\site-packages\\sklearn_extra\\cluster\\_k_medoids.py:235: UserWarning: Cluster 8 is empty! self.labels_[self.medoid_indices_[8]] may not be labeled with its corresponding cluster (8).\n",
      "  \"its corresponding cluster ({k}).\".format(k=k)\n",
      "C:\\ProgramData\\Anaconda3\\lib\\site-packages\\sklearn_extra\\cluster\\_k_medoids.py:235: UserWarning: Cluster 11 is empty! self.labels_[self.medoid_indices_[11]] may not be labeled with its corresponding cluster (11).\n",
      "  \"its corresponding cluster ({k}).\".format(k=k)\n",
      "C:\\ProgramData\\Anaconda3\\lib\\site-packages\\sklearn_extra\\cluster\\_k_medoids.py:235: UserWarning: Cluster 5 is empty! self.labels_[self.medoid_indices_[5]] may not be labeled with its corresponding cluster (5).\n",
      "  \"its corresponding cluster ({k}).\".format(k=k)\n",
      "C:\\ProgramData\\Anaconda3\\lib\\site-packages\\sklearn_extra\\cluster\\_k_medoids.py:235: UserWarning: Cluster 7 is empty! self.labels_[self.medoid_indices_[7]] may not be labeled with its corresponding cluster (7).\n",
      "  \"its corresponding cluster ({k}).\".format(k=k)\n",
      "C:\\ProgramData\\Anaconda3\\lib\\site-packages\\sklearn_extra\\cluster\\_k_medoids.py:235: UserWarning: Cluster 8 is empty! self.labels_[self.medoid_indices_[8]] may not be labeled with its corresponding cluster (8).\n",
      "  \"its corresponding cluster ({k}).\".format(k=k)\n",
      "C:\\ProgramData\\Anaconda3\\lib\\site-packages\\sklearn_extra\\cluster\\_k_medoids.py:235: UserWarning: Cluster 11 is empty! self.labels_[self.medoid_indices_[11]] may not be labeled with its corresponding cluster (11).\n",
      "  \"its corresponding cluster ({k}).\".format(k=k)\n",
      "C:\\ProgramData\\Anaconda3\\lib\\site-packages\\sklearn_extra\\cluster\\_k_medoids.py:235: UserWarning: Cluster 12 is empty! self.labels_[self.medoid_indices_[12]] may not be labeled with its corresponding cluster (12).\n",
      "  \"its corresponding cluster ({k}).\".format(k=k)\n",
      "C:\\ProgramData\\Anaconda3\\lib\\site-packages\\sklearn_extra\\cluster\\_k_medoids.py:235: UserWarning: Cluster 5 is empty! self.labels_[self.medoid_indices_[5]] may not be labeled with its corresponding cluster (5).\n",
      "  \"its corresponding cluster ({k}).\".format(k=k)\n",
      "C:\\ProgramData\\Anaconda3\\lib\\site-packages\\sklearn_extra\\cluster\\_k_medoids.py:235: UserWarning: Cluster 7 is empty! self.labels_[self.medoid_indices_[7]] may not be labeled with its corresponding cluster (7).\n",
      "  \"its corresponding cluster ({k}).\".format(k=k)\n",
      "C:\\ProgramData\\Anaconda3\\lib\\site-packages\\sklearn_extra\\cluster\\_k_medoids.py:235: UserWarning: Cluster 8 is empty! self.labels_[self.medoid_indices_[8]] may not be labeled with its corresponding cluster (8).\n",
      "  \"its corresponding cluster ({k}).\".format(k=k)\n",
      "C:\\ProgramData\\Anaconda3\\lib\\site-packages\\sklearn_extra\\cluster\\_k_medoids.py:235: UserWarning: Cluster 11 is empty! self.labels_[self.medoid_indices_[11]] may not be labeled with its corresponding cluster (11).\n",
      "  \"its corresponding cluster ({k}).\".format(k=k)\n",
      "C:\\ProgramData\\Anaconda3\\lib\\site-packages\\sklearn_extra\\cluster\\_k_medoids.py:235: UserWarning: Cluster 12 is empty! self.labels_[self.medoid_indices_[12]] may not be labeled with its corresponding cluster (12).\n",
      "  \"its corresponding cluster ({k}).\".format(k=k)\n"
     ]
    },
    {
     "name": "stderr",
     "output_type": "stream",
     "text": [
      "C:\\ProgramData\\Anaconda3\\lib\\site-packages\\sklearn_extra\\cluster\\_k_medoids.py:235: UserWarning: Cluster 5 is empty! self.labels_[self.medoid_indices_[5]] may not be labeled with its corresponding cluster (5).\n",
      "  \"its corresponding cluster ({k}).\".format(k=k)\n",
      "C:\\ProgramData\\Anaconda3\\lib\\site-packages\\sklearn_extra\\cluster\\_k_medoids.py:235: UserWarning: Cluster 7 is empty! self.labels_[self.medoid_indices_[7]] may not be labeled with its corresponding cluster (7).\n",
      "  \"its corresponding cluster ({k}).\".format(k=k)\n",
      "C:\\ProgramData\\Anaconda3\\lib\\site-packages\\sklearn_extra\\cluster\\_k_medoids.py:235: UserWarning: Cluster 8 is empty! self.labels_[self.medoid_indices_[8]] may not be labeled with its corresponding cluster (8).\n",
      "  \"its corresponding cluster ({k}).\".format(k=k)\n",
      "C:\\ProgramData\\Anaconda3\\lib\\site-packages\\sklearn_extra\\cluster\\_k_medoids.py:235: UserWarning: Cluster 11 is empty! self.labels_[self.medoid_indices_[11]] may not be labeled with its corresponding cluster (11).\n",
      "  \"its corresponding cluster ({k}).\".format(k=k)\n",
      "C:\\ProgramData\\Anaconda3\\lib\\site-packages\\sklearn_extra\\cluster\\_k_medoids.py:235: UserWarning: Cluster 13 is empty! self.labels_[self.medoid_indices_[13]] may not be labeled with its corresponding cluster (13).\n",
      "  \"its corresponding cluster ({k}).\".format(k=k)\n",
      "C:\\ProgramData\\Anaconda3\\lib\\site-packages\\sklearn_extra\\cluster\\_k_medoids.py:235: UserWarning: Cluster 5 is empty! self.labels_[self.medoid_indices_[5]] may not be labeled with its corresponding cluster (5).\n",
      "  \"its corresponding cluster ({k}).\".format(k=k)\n",
      "C:\\ProgramData\\Anaconda3\\lib\\site-packages\\sklearn_extra\\cluster\\_k_medoids.py:235: UserWarning: Cluster 7 is empty! self.labels_[self.medoid_indices_[7]] may not be labeled with its corresponding cluster (7).\n",
      "  \"its corresponding cluster ({k}).\".format(k=k)\n",
      "C:\\ProgramData\\Anaconda3\\lib\\site-packages\\sklearn_extra\\cluster\\_k_medoids.py:235: UserWarning: Cluster 8 is empty! self.labels_[self.medoid_indices_[8]] may not be labeled with its corresponding cluster (8).\n",
      "  \"its corresponding cluster ({k}).\".format(k=k)\n",
      "C:\\ProgramData\\Anaconda3\\lib\\site-packages\\sklearn_extra\\cluster\\_k_medoids.py:235: UserWarning: Cluster 11 is empty! self.labels_[self.medoid_indices_[11]] may not be labeled with its corresponding cluster (11).\n",
      "  \"its corresponding cluster ({k}).\".format(k=k)\n",
      "C:\\ProgramData\\Anaconda3\\lib\\site-packages\\sklearn_extra\\cluster\\_k_medoids.py:235: UserWarning: Cluster 13 is empty! self.labels_[self.medoid_indices_[13]] may not be labeled with its corresponding cluster (13).\n",
      "  \"its corresponding cluster ({k}).\".format(k=k)\n",
      "C:\\ProgramData\\Anaconda3\\lib\\site-packages\\sklearn_extra\\cluster\\_k_medoids.py:235: UserWarning: Cluster 5 is empty! self.labels_[self.medoid_indices_[5]] may not be labeled with its corresponding cluster (5).\n",
      "  \"its corresponding cluster ({k}).\".format(k=k)\n",
      "C:\\ProgramData\\Anaconda3\\lib\\site-packages\\sklearn_extra\\cluster\\_k_medoids.py:235: UserWarning: Cluster 7 is empty! self.labels_[self.medoid_indices_[7]] may not be labeled with its corresponding cluster (7).\n",
      "  \"its corresponding cluster ({k}).\".format(k=k)\n",
      "C:\\ProgramData\\Anaconda3\\lib\\site-packages\\sklearn_extra\\cluster\\_k_medoids.py:235: UserWarning: Cluster 8 is empty! self.labels_[self.medoid_indices_[8]] may not be labeled with its corresponding cluster (8).\n",
      "  \"its corresponding cluster ({k}).\".format(k=k)\n",
      "C:\\ProgramData\\Anaconda3\\lib\\site-packages\\sklearn_extra\\cluster\\_k_medoids.py:235: UserWarning: Cluster 11 is empty! self.labels_[self.medoid_indices_[11]] may not be labeled with its corresponding cluster (11).\n",
      "  \"its corresponding cluster ({k}).\".format(k=k)\n",
      "C:\\ProgramData\\Anaconda3\\lib\\site-packages\\sklearn_extra\\cluster\\_k_medoids.py:235: UserWarning: Cluster 13 is empty! self.labels_[self.medoid_indices_[13]] may not be labeled with its corresponding cluster (13).\n",
      "  \"its corresponding cluster ({k}).\".format(k=k)\n",
      "C:\\ProgramData\\Anaconda3\\lib\\site-packages\\sklearn_extra\\cluster\\_k_medoids.py:235: UserWarning: Cluster 5 is empty! self.labels_[self.medoid_indices_[5]] may not be labeled with its corresponding cluster (5).\n",
      "  \"its corresponding cluster ({k}).\".format(k=k)\n",
      "C:\\ProgramData\\Anaconda3\\lib\\site-packages\\sklearn_extra\\cluster\\_k_medoids.py:235: UserWarning: Cluster 7 is empty! self.labels_[self.medoid_indices_[7]] may not be labeled with its corresponding cluster (7).\n",
      "  \"its corresponding cluster ({k}).\".format(k=k)\n",
      "C:\\ProgramData\\Anaconda3\\lib\\site-packages\\sklearn_extra\\cluster\\_k_medoids.py:235: UserWarning: Cluster 8 is empty! self.labels_[self.medoid_indices_[8]] may not be labeled with its corresponding cluster (8).\n",
      "  \"its corresponding cluster ({k}).\".format(k=k)\n",
      "C:\\ProgramData\\Anaconda3\\lib\\site-packages\\sklearn_extra\\cluster\\_k_medoids.py:235: UserWarning: Cluster 11 is empty! self.labels_[self.medoid_indices_[11]] may not be labeled with its corresponding cluster (11).\n",
      "  \"its corresponding cluster ({k}).\".format(k=k)\n",
      "C:\\ProgramData\\Anaconda3\\lib\\site-packages\\sklearn_extra\\cluster\\_k_medoids.py:235: UserWarning: Cluster 13 is empty! self.labels_[self.medoid_indices_[13]] may not be labeled with its corresponding cluster (13).\n",
      "  \"its corresponding cluster ({k}).\".format(k=k)\n",
      "C:\\ProgramData\\Anaconda3\\lib\\site-packages\\sklearn_extra\\cluster\\_k_medoids.py:235: UserWarning: Cluster 5 is empty! self.labels_[self.medoid_indices_[5]] may not be labeled with its corresponding cluster (5).\n",
      "  \"its corresponding cluster ({k}).\".format(k=k)\n",
      "C:\\ProgramData\\Anaconda3\\lib\\site-packages\\sklearn_extra\\cluster\\_k_medoids.py:235: UserWarning: Cluster 7 is empty! self.labels_[self.medoid_indices_[7]] may not be labeled with its corresponding cluster (7).\n",
      "  \"its corresponding cluster ({k}).\".format(k=k)\n",
      "C:\\ProgramData\\Anaconda3\\lib\\site-packages\\sklearn_extra\\cluster\\_k_medoids.py:235: UserWarning: Cluster 8 is empty! self.labels_[self.medoid_indices_[8]] may not be labeled with its corresponding cluster (8).\n",
      "  \"its corresponding cluster ({k}).\".format(k=k)\n",
      "C:\\ProgramData\\Anaconda3\\lib\\site-packages\\sklearn_extra\\cluster\\_k_medoids.py:235: UserWarning: Cluster 11 is empty! self.labels_[self.medoid_indices_[11]] may not be labeled with its corresponding cluster (11).\n",
      "  \"its corresponding cluster ({k}).\".format(k=k)\n",
      "C:\\ProgramData\\Anaconda3\\lib\\site-packages\\sklearn_extra\\cluster\\_k_medoids.py:235: UserWarning: Cluster 14 is empty! self.labels_[self.medoid_indices_[14]] may not be labeled with its corresponding cluster (14).\n",
      "  \"its corresponding cluster ({k}).\".format(k=k)\n",
      "C:\\ProgramData\\Anaconda3\\lib\\site-packages\\sklearn_extra\\cluster\\_k_medoids.py:235: UserWarning: Cluster 5 is empty! self.labels_[self.medoid_indices_[5]] may not be labeled with its corresponding cluster (5).\n",
      "  \"its corresponding cluster ({k}).\".format(k=k)\n",
      "C:\\ProgramData\\Anaconda3\\lib\\site-packages\\sklearn_extra\\cluster\\_k_medoids.py:235: UserWarning: Cluster 7 is empty! self.labels_[self.medoid_indices_[7]] may not be labeled with its corresponding cluster (7).\n",
      "  \"its corresponding cluster ({k}).\".format(k=k)\n",
      "C:\\ProgramData\\Anaconda3\\lib\\site-packages\\sklearn_extra\\cluster\\_k_medoids.py:235: UserWarning: Cluster 8 is empty! self.labels_[self.medoid_indices_[8]] may not be labeled with its corresponding cluster (8).\n",
      "  \"its corresponding cluster ({k}).\".format(k=k)\n",
      "C:\\ProgramData\\Anaconda3\\lib\\site-packages\\sklearn_extra\\cluster\\_k_medoids.py:235: UserWarning: Cluster 11 is empty! self.labels_[self.medoid_indices_[11]] may not be labeled with its corresponding cluster (11).\n",
      "  \"its corresponding cluster ({k}).\".format(k=k)\n",
      "C:\\ProgramData\\Anaconda3\\lib\\site-packages\\sklearn_extra\\cluster\\_k_medoids.py:235: UserWarning: Cluster 14 is empty! self.labels_[self.medoid_indices_[14]] may not be labeled with its corresponding cluster (14).\n",
      "  \"its corresponding cluster ({k}).\".format(k=k)\n",
      "C:\\ProgramData\\Anaconda3\\lib\\site-packages\\sklearn_extra\\cluster\\_k_medoids.py:235: UserWarning: Cluster 19 is empty! self.labels_[self.medoid_indices_[19]] may not be labeled with its corresponding cluster (19).\n",
      "  \"its corresponding cluster ({k}).\".format(k=k)\n",
      "C:\\ProgramData\\Anaconda3\\lib\\site-packages\\sklearn_extra\\cluster\\_k_medoids.py:235: UserWarning: Cluster 5 is empty! self.labels_[self.medoid_indices_[5]] may not be labeled with its corresponding cluster (5).\n",
      "  \"its corresponding cluster ({k}).\".format(k=k)\n",
      "C:\\ProgramData\\Anaconda3\\lib\\site-packages\\sklearn_extra\\cluster\\_k_medoids.py:235: UserWarning: Cluster 7 is empty! self.labels_[self.medoid_indices_[7]] may not be labeled with its corresponding cluster (7).\n",
      "  \"its corresponding cluster ({k}).\".format(k=k)\n",
      "C:\\ProgramData\\Anaconda3\\lib\\site-packages\\sklearn_extra\\cluster\\_k_medoids.py:235: UserWarning: Cluster 8 is empty! self.labels_[self.medoid_indices_[8]] may not be labeled with its corresponding cluster (8).\n",
      "  \"its corresponding cluster ({k}).\".format(k=k)\n",
      "C:\\ProgramData\\Anaconda3\\lib\\site-packages\\sklearn_extra\\cluster\\_k_medoids.py:235: UserWarning: Cluster 11 is empty! self.labels_[self.medoid_indices_[11]] may not be labeled with its corresponding cluster (11).\n",
      "  \"its corresponding cluster ({k}).\".format(k=k)\n",
      "C:\\ProgramData\\Anaconda3\\lib\\site-packages\\sklearn_extra\\cluster\\_k_medoids.py:235: UserWarning: Cluster 14 is empty! self.labels_[self.medoid_indices_[14]] may not be labeled with its corresponding cluster (14).\n",
      "  \"its corresponding cluster ({k}).\".format(k=k)\n"
     ]
    },
    {
     "name": "stderr",
     "output_type": "stream",
     "text": [
      "C:\\ProgramData\\Anaconda3\\lib\\site-packages\\sklearn_extra\\cluster\\_k_medoids.py:235: UserWarning: Cluster 19 is empty! self.labels_[self.medoid_indices_[19]] may not be labeled with its corresponding cluster (19).\n",
      "  \"its corresponding cluster ({k}).\".format(k=k)\n",
      "C:\\ProgramData\\Anaconda3\\lib\\site-packages\\sklearn_extra\\cluster\\_k_medoids.py:235: UserWarning: Cluster 20 is empty! self.labels_[self.medoid_indices_[20]] may not be labeled with its corresponding cluster (20).\n",
      "  \"its corresponding cluster ({k}).\".format(k=k)\n",
      "C:\\ProgramData\\Anaconda3\\lib\\site-packages\\sklearn_extra\\cluster\\_k_medoids.py:235: UserWarning: Cluster 5 is empty! self.labels_[self.medoid_indices_[5]] may not be labeled with its corresponding cluster (5).\n",
      "  \"its corresponding cluster ({k}).\".format(k=k)\n",
      "C:\\ProgramData\\Anaconda3\\lib\\site-packages\\sklearn_extra\\cluster\\_k_medoids.py:235: UserWarning: Cluster 7 is empty! self.labels_[self.medoid_indices_[7]] may not be labeled with its corresponding cluster (7).\n",
      "  \"its corresponding cluster ({k}).\".format(k=k)\n",
      "C:\\ProgramData\\Anaconda3\\lib\\site-packages\\sklearn_extra\\cluster\\_k_medoids.py:235: UserWarning: Cluster 8 is empty! self.labels_[self.medoid_indices_[8]] may not be labeled with its corresponding cluster (8).\n",
      "  \"its corresponding cluster ({k}).\".format(k=k)\n",
      "C:\\ProgramData\\Anaconda3\\lib\\site-packages\\sklearn_extra\\cluster\\_k_medoids.py:235: UserWarning: Cluster 11 is empty! self.labels_[self.medoid_indices_[11]] may not be labeled with its corresponding cluster (11).\n",
      "  \"its corresponding cluster ({k}).\".format(k=k)\n",
      "C:\\ProgramData\\Anaconda3\\lib\\site-packages\\sklearn_extra\\cluster\\_k_medoids.py:235: UserWarning: Cluster 14 is empty! self.labels_[self.medoid_indices_[14]] may not be labeled with its corresponding cluster (14).\n",
      "  \"its corresponding cluster ({k}).\".format(k=k)\n",
      "C:\\ProgramData\\Anaconda3\\lib\\site-packages\\sklearn_extra\\cluster\\_k_medoids.py:235: UserWarning: Cluster 18 is empty! self.labels_[self.medoid_indices_[18]] may not be labeled with its corresponding cluster (18).\n",
      "  \"its corresponding cluster ({k}).\".format(k=k)\n",
      "C:\\ProgramData\\Anaconda3\\lib\\site-packages\\sklearn_extra\\cluster\\_k_medoids.py:235: UserWarning: Cluster 20 is empty! self.labels_[self.medoid_indices_[20]] may not be labeled with its corresponding cluster (20).\n",
      "  \"its corresponding cluster ({k}).\".format(k=k)\n",
      "C:\\ProgramData\\Anaconda3\\lib\\site-packages\\sklearn_extra\\cluster\\_k_medoids.py:235: UserWarning: Cluster 5 is empty! self.labels_[self.medoid_indices_[5]] may not be labeled with its corresponding cluster (5).\n",
      "  \"its corresponding cluster ({k}).\".format(k=k)\n",
      "C:\\ProgramData\\Anaconda3\\lib\\site-packages\\sklearn_extra\\cluster\\_k_medoids.py:235: UserWarning: Cluster 7 is empty! self.labels_[self.medoid_indices_[7]] may not be labeled with its corresponding cluster (7).\n",
      "  \"its corresponding cluster ({k}).\".format(k=k)\n",
      "C:\\ProgramData\\Anaconda3\\lib\\site-packages\\sklearn_extra\\cluster\\_k_medoids.py:235: UserWarning: Cluster 8 is empty! self.labels_[self.medoid_indices_[8]] may not be labeled with its corresponding cluster (8).\n",
      "  \"its corresponding cluster ({k}).\".format(k=k)\n",
      "C:\\ProgramData\\Anaconda3\\lib\\site-packages\\sklearn_extra\\cluster\\_k_medoids.py:235: UserWarning: Cluster 11 is empty! self.labels_[self.medoid_indices_[11]] may not be labeled with its corresponding cluster (11).\n",
      "  \"its corresponding cluster ({k}).\".format(k=k)\n",
      "C:\\ProgramData\\Anaconda3\\lib\\site-packages\\sklearn_extra\\cluster\\_k_medoids.py:235: UserWarning: Cluster 14 is empty! self.labels_[self.medoid_indices_[14]] may not be labeled with its corresponding cluster (14).\n",
      "  \"its corresponding cluster ({k}).\".format(k=k)\n",
      "C:\\ProgramData\\Anaconda3\\lib\\site-packages\\sklearn_extra\\cluster\\_k_medoids.py:235: UserWarning: Cluster 18 is empty! self.labels_[self.medoid_indices_[18]] may not be labeled with its corresponding cluster (18).\n",
      "  \"its corresponding cluster ({k}).\".format(k=k)\n",
      "C:\\ProgramData\\Anaconda3\\lib\\site-packages\\sklearn_extra\\cluster\\_k_medoids.py:235: UserWarning: Cluster 20 is empty! self.labels_[self.medoid_indices_[20]] may not be labeled with its corresponding cluster (20).\n",
      "  \"its corresponding cluster ({k}).\".format(k=k)\n",
      "C:\\ProgramData\\Anaconda3\\lib\\site-packages\\sklearn_extra\\cluster\\_k_medoids.py:235: UserWarning: Cluster 5 is empty! self.labels_[self.medoid_indices_[5]] may not be labeled with its corresponding cluster (5).\n",
      "  \"its corresponding cluster ({k}).\".format(k=k)\n",
      "C:\\ProgramData\\Anaconda3\\lib\\site-packages\\sklearn_extra\\cluster\\_k_medoids.py:235: UserWarning: Cluster 7 is empty! self.labels_[self.medoid_indices_[7]] may not be labeled with its corresponding cluster (7).\n",
      "  \"its corresponding cluster ({k}).\".format(k=k)\n",
      "C:\\ProgramData\\Anaconda3\\lib\\site-packages\\sklearn_extra\\cluster\\_k_medoids.py:235: UserWarning: Cluster 8 is empty! self.labels_[self.medoid_indices_[8]] may not be labeled with its corresponding cluster (8).\n",
      "  \"its corresponding cluster ({k}).\".format(k=k)\n",
      "C:\\ProgramData\\Anaconda3\\lib\\site-packages\\sklearn_extra\\cluster\\_k_medoids.py:235: UserWarning: Cluster 11 is empty! self.labels_[self.medoid_indices_[11]] may not be labeled with its corresponding cluster (11).\n",
      "  \"its corresponding cluster ({k}).\".format(k=k)\n",
      "C:\\ProgramData\\Anaconda3\\lib\\site-packages\\sklearn_extra\\cluster\\_k_medoids.py:235: UserWarning: Cluster 14 is empty! self.labels_[self.medoid_indices_[14]] may not be labeled with its corresponding cluster (14).\n",
      "  \"its corresponding cluster ({k}).\".format(k=k)\n",
      "C:\\ProgramData\\Anaconda3\\lib\\site-packages\\sklearn_extra\\cluster\\_k_medoids.py:235: UserWarning: Cluster 18 is empty! self.labels_[self.medoid_indices_[18]] may not be labeled with its corresponding cluster (18).\n",
      "  \"its corresponding cluster ({k}).\".format(k=k)\n",
      "C:\\ProgramData\\Anaconda3\\lib\\site-packages\\sklearn_extra\\cluster\\_k_medoids.py:235: UserWarning: Cluster 20 is empty! self.labels_[self.medoid_indices_[20]] may not be labeled with its corresponding cluster (20).\n",
      "  \"its corresponding cluster ({k}).\".format(k=k)\n",
      "C:\\ProgramData\\Anaconda3\\lib\\site-packages\\sklearn_extra\\cluster\\_k_medoids.py:235: UserWarning: Cluster 5 is empty! self.labels_[self.medoid_indices_[5]] may not be labeled with its corresponding cluster (5).\n",
      "  \"its corresponding cluster ({k}).\".format(k=k)\n",
      "C:\\ProgramData\\Anaconda3\\lib\\site-packages\\sklearn_extra\\cluster\\_k_medoids.py:235: UserWarning: Cluster 7 is empty! self.labels_[self.medoid_indices_[7]] may not be labeled with its corresponding cluster (7).\n",
      "  \"its corresponding cluster ({k}).\".format(k=k)\n",
      "C:\\ProgramData\\Anaconda3\\lib\\site-packages\\sklearn_extra\\cluster\\_k_medoids.py:235: UserWarning: Cluster 8 is empty! self.labels_[self.medoid_indices_[8]] may not be labeled with its corresponding cluster (8).\n",
      "  \"its corresponding cluster ({k}).\".format(k=k)\n",
      "C:\\ProgramData\\Anaconda3\\lib\\site-packages\\sklearn_extra\\cluster\\_k_medoids.py:235: UserWarning: Cluster 11 is empty! self.labels_[self.medoid_indices_[11]] may not be labeled with its corresponding cluster (11).\n",
      "  \"its corresponding cluster ({k}).\".format(k=k)\n",
      "C:\\ProgramData\\Anaconda3\\lib\\site-packages\\sklearn_extra\\cluster\\_k_medoids.py:235: UserWarning: Cluster 14 is empty! self.labels_[self.medoid_indices_[14]] may not be labeled with its corresponding cluster (14).\n",
      "  \"its corresponding cluster ({k}).\".format(k=k)\n",
      "C:\\ProgramData\\Anaconda3\\lib\\site-packages\\sklearn_extra\\cluster\\_k_medoids.py:235: UserWarning: Cluster 18 is empty! self.labels_[self.medoid_indices_[18]] may not be labeled with its corresponding cluster (18).\n",
      "  \"its corresponding cluster ({k}).\".format(k=k)\n",
      "C:\\ProgramData\\Anaconda3\\lib\\site-packages\\sklearn_extra\\cluster\\_k_medoids.py:235: UserWarning: Cluster 20 is empty! self.labels_[self.medoid_indices_[20]] may not be labeled with its corresponding cluster (20).\n",
      "  \"its corresponding cluster ({k}).\".format(k=k)\n",
      "C:\\ProgramData\\Anaconda3\\lib\\site-packages\\sklearn_extra\\cluster\\_k_medoids.py:235: UserWarning: Cluster 5 is empty! self.labels_[self.medoid_indices_[5]] may not be labeled with its corresponding cluster (5).\n",
      "  \"its corresponding cluster ({k}).\".format(k=k)\n",
      "C:\\ProgramData\\Anaconda3\\lib\\site-packages\\sklearn_extra\\cluster\\_k_medoids.py:235: UserWarning: Cluster 7 is empty! self.labels_[self.medoid_indices_[7]] may not be labeled with its corresponding cluster (7).\n",
      "  \"its corresponding cluster ({k}).\".format(k=k)\n",
      "C:\\ProgramData\\Anaconda3\\lib\\site-packages\\sklearn_extra\\cluster\\_k_medoids.py:235: UserWarning: Cluster 8 is empty! self.labels_[self.medoid_indices_[8]] may not be labeled with its corresponding cluster (8).\n",
      "  \"its corresponding cluster ({k}).\".format(k=k)\n",
      "C:\\ProgramData\\Anaconda3\\lib\\site-packages\\sklearn_extra\\cluster\\_k_medoids.py:235: UserWarning: Cluster 11 is empty! self.labels_[self.medoid_indices_[11]] may not be labeled with its corresponding cluster (11).\n",
      "  \"its corresponding cluster ({k}).\".format(k=k)\n"
     ]
    },
    {
     "name": "stderr",
     "output_type": "stream",
     "text": [
      "C:\\ProgramData\\Anaconda3\\lib\\site-packages\\sklearn_extra\\cluster\\_k_medoids.py:235: UserWarning: Cluster 14 is empty! self.labels_[self.medoid_indices_[14]] may not be labeled with its corresponding cluster (14).\n",
      "  \"its corresponding cluster ({k}).\".format(k=k)\n",
      "C:\\ProgramData\\Anaconda3\\lib\\site-packages\\sklearn_extra\\cluster\\_k_medoids.py:235: UserWarning: Cluster 20 is empty! self.labels_[self.medoid_indices_[20]] may not be labeled with its corresponding cluster (20).\n",
      "  \"its corresponding cluster ({k}).\".format(k=k)\n",
      "C:\\ProgramData\\Anaconda3\\lib\\site-packages\\sklearn_extra\\cluster\\_k_medoids.py:235: UserWarning: Cluster 22 is empty! self.labels_[self.medoid_indices_[22]] may not be labeled with its corresponding cluster (22).\n",
      "  \"its corresponding cluster ({k}).\".format(k=k)\n",
      "C:\\ProgramData\\Anaconda3\\lib\\site-packages\\sklearn_extra\\cluster\\_k_medoids.py:235: UserWarning: Cluster 5 is empty! self.labels_[self.medoid_indices_[5]] may not be labeled with its corresponding cluster (5).\n",
      "  \"its corresponding cluster ({k}).\".format(k=k)\n",
      "C:\\ProgramData\\Anaconda3\\lib\\site-packages\\sklearn_extra\\cluster\\_k_medoids.py:235: UserWarning: Cluster 7 is empty! self.labels_[self.medoid_indices_[7]] may not be labeled with its corresponding cluster (7).\n",
      "  \"its corresponding cluster ({k}).\".format(k=k)\n",
      "C:\\ProgramData\\Anaconda3\\lib\\site-packages\\sklearn_extra\\cluster\\_k_medoids.py:235: UserWarning: Cluster 8 is empty! self.labels_[self.medoid_indices_[8]] may not be labeled with its corresponding cluster (8).\n",
      "  \"its corresponding cluster ({k}).\".format(k=k)\n",
      "C:\\ProgramData\\Anaconda3\\lib\\site-packages\\sklearn_extra\\cluster\\_k_medoids.py:235: UserWarning: Cluster 11 is empty! self.labels_[self.medoid_indices_[11]] may not be labeled with its corresponding cluster (11).\n",
      "  \"its corresponding cluster ({k}).\".format(k=k)\n",
      "C:\\ProgramData\\Anaconda3\\lib\\site-packages\\sklearn_extra\\cluster\\_k_medoids.py:235: UserWarning: Cluster 14 is empty! self.labels_[self.medoid_indices_[14]] may not be labeled with its corresponding cluster (14).\n",
      "  \"its corresponding cluster ({k}).\".format(k=k)\n",
      "C:\\ProgramData\\Anaconda3\\lib\\site-packages\\sklearn_extra\\cluster\\_k_medoids.py:235: UserWarning: Cluster 20 is empty! self.labels_[self.medoid_indices_[20]] may not be labeled with its corresponding cluster (20).\n",
      "  \"its corresponding cluster ({k}).\".format(k=k)\n",
      "C:\\ProgramData\\Anaconda3\\lib\\site-packages\\sklearn_extra\\cluster\\_k_medoids.py:235: UserWarning: Cluster 22 is empty! self.labels_[self.medoid_indices_[22]] may not be labeled with its corresponding cluster (22).\n",
      "  \"its corresponding cluster ({k}).\".format(k=k)\n",
      "C:\\ProgramData\\Anaconda3\\lib\\site-packages\\sklearn_extra\\cluster\\_k_medoids.py:235: UserWarning: Cluster 5 is empty! self.labels_[self.medoid_indices_[5]] may not be labeled with its corresponding cluster (5).\n",
      "  \"its corresponding cluster ({k}).\".format(k=k)\n",
      "C:\\ProgramData\\Anaconda3\\lib\\site-packages\\sklearn_extra\\cluster\\_k_medoids.py:235: UserWarning: Cluster 7 is empty! self.labels_[self.medoid_indices_[7]] may not be labeled with its corresponding cluster (7).\n",
      "  \"its corresponding cluster ({k}).\".format(k=k)\n",
      "C:\\ProgramData\\Anaconda3\\lib\\site-packages\\sklearn_extra\\cluster\\_k_medoids.py:235: UserWarning: Cluster 8 is empty! self.labels_[self.medoid_indices_[8]] may not be labeled with its corresponding cluster (8).\n",
      "  \"its corresponding cluster ({k}).\".format(k=k)\n",
      "C:\\ProgramData\\Anaconda3\\lib\\site-packages\\sklearn_extra\\cluster\\_k_medoids.py:235: UserWarning: Cluster 11 is empty! self.labels_[self.medoid_indices_[11]] may not be labeled with its corresponding cluster (11).\n",
      "  \"its corresponding cluster ({k}).\".format(k=k)\n",
      "C:\\ProgramData\\Anaconda3\\lib\\site-packages\\sklearn_extra\\cluster\\_k_medoids.py:235: UserWarning: Cluster 14 is empty! self.labels_[self.medoid_indices_[14]] may not be labeled with its corresponding cluster (14).\n",
      "  \"its corresponding cluster ({k}).\".format(k=k)\n",
      "C:\\ProgramData\\Anaconda3\\lib\\site-packages\\sklearn_extra\\cluster\\_k_medoids.py:235: UserWarning: Cluster 20 is empty! self.labels_[self.medoid_indices_[20]] may not be labeled with its corresponding cluster (20).\n",
      "  \"its corresponding cluster ({k}).\".format(k=k)\n",
      "C:\\ProgramData\\Anaconda3\\lib\\site-packages\\sklearn_extra\\cluster\\_k_medoids.py:235: UserWarning: Cluster 22 is empty! self.labels_[self.medoid_indices_[22]] may not be labeled with its corresponding cluster (22).\n",
      "  \"its corresponding cluster ({k}).\".format(k=k)\n",
      "C:\\ProgramData\\Anaconda3\\lib\\site-packages\\sklearn_extra\\cluster\\_k_medoids.py:235: UserWarning: Cluster 5 is empty! self.labels_[self.medoid_indices_[5]] may not be labeled with its corresponding cluster (5).\n",
      "  \"its corresponding cluster ({k}).\".format(k=k)\n",
      "C:\\ProgramData\\Anaconda3\\lib\\site-packages\\sklearn_extra\\cluster\\_k_medoids.py:235: UserWarning: Cluster 7 is empty! self.labels_[self.medoid_indices_[7]] may not be labeled with its corresponding cluster (7).\n",
      "  \"its corresponding cluster ({k}).\".format(k=k)\n",
      "C:\\ProgramData\\Anaconda3\\lib\\site-packages\\sklearn_extra\\cluster\\_k_medoids.py:235: UserWarning: Cluster 8 is empty! self.labels_[self.medoid_indices_[8]] may not be labeled with its corresponding cluster (8).\n",
      "  \"its corresponding cluster ({k}).\".format(k=k)\n",
      "C:\\ProgramData\\Anaconda3\\lib\\site-packages\\sklearn_extra\\cluster\\_k_medoids.py:235: UserWarning: Cluster 11 is empty! self.labels_[self.medoid_indices_[11]] may not be labeled with its corresponding cluster (11).\n",
      "  \"its corresponding cluster ({k}).\".format(k=k)\n",
      "C:\\ProgramData\\Anaconda3\\lib\\site-packages\\sklearn_extra\\cluster\\_k_medoids.py:235: UserWarning: Cluster 14 is empty! self.labels_[self.medoid_indices_[14]] may not be labeled with its corresponding cluster (14).\n",
      "  \"its corresponding cluster ({k}).\".format(k=k)\n",
      "C:\\ProgramData\\Anaconda3\\lib\\site-packages\\sklearn_extra\\cluster\\_k_medoids.py:235: UserWarning: Cluster 20 is empty! self.labels_[self.medoid_indices_[20]] may not be labeled with its corresponding cluster (20).\n",
      "  \"its corresponding cluster ({k}).\".format(k=k)\n",
      "C:\\ProgramData\\Anaconda3\\lib\\site-packages\\sklearn_extra\\cluster\\_k_medoids.py:235: UserWarning: Cluster 22 is empty! self.labels_[self.medoid_indices_[22]] may not be labeled with its corresponding cluster (22).\n",
      "  \"its corresponding cluster ({k}).\".format(k=k)\n"
     ]
    }
   ],
   "source": [
    "SSE_scaled = []\n",
    "for cluster in range(2,30):\n",
    "    kmedoids = KMedoids(n_clusters = cluster)\n",
    "    kmedoids.fit(data_scaled)\n",
    "    SSE_scaled.append(kmedoids.inertia_)"
   ]
  },
  {
   "cell_type": "code",
   "execution_count": 93,
   "metadata": {},
   "outputs": [
    {
     "data": {
      "text/plain": [
       "[23103.770292132267,\n",
       " 21692.469567002376,\n",
       " 21390.87906315418,\n",
       " 20775.301168358274,\n",
       " 20676.46098609462,\n",
       " 20568.880333554782,\n",
       " 18829.673605106324,\n",
       " 19016.056813355335,\n",
       " 18846.570401596662,\n",
       " 18476.62866258405,\n",
       " 18716.102382055582,\n",
       " 18704.94855900528,\n",
       " 18112.23710604351,\n",
       " 18090.568927167224,\n",
       " 18082.87868528863,\n",
       " 18074.26609163486,\n",
       " 18071.17930063962,\n",
       " 18251.093623628472,\n",
       " 18250.76776288932,\n",
       " 18249.13521795345,\n",
       " 18877.279332572063,\n",
       " 18875.483877214,\n",
       " 18871.84892994233,\n",
       " 18871.84892994233,\n",
       " 18871.709102485373,\n",
       " 18871.709102485373,\n",
       " 18871.709102425768,\n",
       " 18567.590100005225]"
      ]
     },
     "execution_count": 93,
     "metadata": {},
     "output_type": "execute_result"
    }
   ],
   "source": [
    "SSE_scaled"
   ]
  },
  {
   "cell_type": "code",
   "execution_count": 94,
   "metadata": {
    "scrolled": false
   },
   "outputs": [
    {
     "data": {
      "text/plain": [
       "Text(0, 0.5, 'SSE')"
      ]
     },
     "execution_count": 94,
     "metadata": {},
     "output_type": "execute_result"
    },
    {
     "data": {
      "image/png": "[encoded data removed]",
      "text/plain": [
       "<Figure size 864x432 with 1 Axes>"
      ]
     },
     "metadata": {
      "needs_background": "light"
     },
     "output_type": "display_data"
    }
   ],
   "source": [
    "plt.figure(figsize=(12,6))\n",
    "frame_scaled = pd.DataFrame({'Cluster':range(2,30), 'SSE':SSE_scaled})\n",
    "plt.plot(frame_scaled['Cluster'], frame_scaled['SSE'], marker='o')\n",
    "plt.xlabel(\"Clusters\")\n",
    "plt.ylabel(\"SSE\")"
   ]
  },
  {
   "cell_type": "code",
   "execution_count": 19,
   "metadata": {},
   "outputs": [],
   "source": [
    "kmedoids = KMedoids(n_clusters = 2)\n",
    "kmedoids.fit(data_scaled)\n",
    "pred = kmedoids.predict(data_scaled)"
   ]
  },
  {
   "cell_type": "code",
   "execution_count": 20,
   "metadata": {},
   "outputs": [
    {
     "data": {
      "text/plain": [
       "0    4123\n",
       "1    3524\n",
       "dtype: int64"
      ]
     },
     "execution_count": 20,
     "metadata": {},
     "output_type": "execute_result"
    }
   ],
   "source": [
    "pd.Series(pred).value_counts()"
   ]
  },
  {
   "cell_type": "code",
   "execution_count": null,
   "metadata": {},
   "outputs": [],
   "source": []
  },
  {
   "cell_type": "code",
   "execution_count": null,
   "metadata": {},
   "outputs": [],
   "source": []
  },
  {
   "cell_type": "code",
   "execution_count": null,
   "metadata": {},
   "outputs": [],
   "source": []
  },
  {
   "cell_type": "code",
   "execution_count": 21,
   "metadata": {},
   "outputs": [],
   "source": [
    "data[\"Cluster\"]=pred"
   ]
  },
  {
   "cell_type": "code",
   "execution_count": 22,
   "metadata": {},
   "outputs": [
    {
     "data": {
      "text/html": [
       "<div>\n",
       "<style scoped>\n",
       "    .dataframe tbody tr th:only-of-type {\n",
       "        vertical-align: middle;\n",
       "    }\n",
       "\n",
       "    .dataframe tbody tr th {\n",
       "        vertical-align: top;\n",
       "    }\n",
       "\n",
       "    .dataframe thead th {\n",
       "        text-align: right;\n",
       "    }\n",
       "</style>\n",
       "<table border=\"1\" class=\"dataframe\">\n",
       "  <thead>\n",
       "    <tr style=\"text-align: right;\">\n",
       "      <th></th>\n",
       "      <th>Q2a</th>\n",
       "      <th>Q2b</th>\n",
       "      <th>Q87a</th>\n",
       "      <th>Q87b</th>\n",
       "      <th>Q87c</th>\n",
       "      <th>Q87d</th>\n",
       "      <th>Q87e</th>\n",
       "      <th>Q90a</th>\n",
       "      <th>Q90b</th>\n",
       "      <th>Q90c</th>\n",
       "      <th>Q90f</th>\n",
       "      <th>Cluster</th>\n",
       "    </tr>\n",
       "  </thead>\n",
       "  <tbody>\n",
       "    <tr>\n",
       "      <th>0</th>\n",
       "      <td>1.0</td>\n",
       "      <td>63.0</td>\n",
       "      <td>3.0</td>\n",
       "      <td>3.0</td>\n",
       "      <td>3.0</td>\n",
       "      <td>3.0</td>\n",
       "      <td>3.0</td>\n",
       "      <td>2.0</td>\n",
       "      <td>2.0</td>\n",
       "      <td>2.0</td>\n",
       "      <td>2.0</td>\n",
       "      <td>1</td>\n",
       "    </tr>\n",
       "    <tr>\n",
       "      <th>1</th>\n",
       "      <td>2.0</td>\n",
       "      <td>58.0</td>\n",
       "      <td>2.0</td>\n",
       "      <td>3.0</td>\n",
       "      <td>2.0</td>\n",
       "      <td>3.0</td>\n",
       "      <td>2.0</td>\n",
       "      <td>2.0</td>\n",
       "      <td>3.0</td>\n",
       "      <td>2.0</td>\n",
       "      <td>2.0</td>\n",
       "      <td>1</td>\n",
       "    </tr>\n",
       "    <tr>\n",
       "      <th>2</th>\n",
       "      <td>2.0</td>\n",
       "      <td>32.0</td>\n",
       "      <td>2.0</td>\n",
       "      <td>2.0</td>\n",
       "      <td>3.0</td>\n",
       "      <td>2.0</td>\n",
       "      <td>3.0</td>\n",
       "      <td>2.0</td>\n",
       "      <td>2.0</td>\n",
       "      <td>2.0</td>\n",
       "      <td>2.0</td>\n",
       "      <td>1</td>\n",
       "    </tr>\n",
       "    <tr>\n",
       "      <th>3</th>\n",
       "      <td>1.0</td>\n",
       "      <td>35.0</td>\n",
       "      <td>3.0</td>\n",
       "      <td>2.0</td>\n",
       "      <td>2.0</td>\n",
       "      <td>2.0</td>\n",
       "      <td>3.0</td>\n",
       "      <td>2.0</td>\n",
       "      <td>2.0</td>\n",
       "      <td>2.0</td>\n",
       "      <td>2.0</td>\n",
       "      <td>1</td>\n",
       "    </tr>\n",
       "    <tr>\n",
       "      <th>4</th>\n",
       "      <td>2.0</td>\n",
       "      <td>27.0</td>\n",
       "      <td>2.0</td>\n",
       "      <td>2.0</td>\n",
       "      <td>3.0</td>\n",
       "      <td>3.0</td>\n",
       "      <td>2.0</td>\n",
       "      <td>2.0</td>\n",
       "      <td>4.0</td>\n",
       "      <td>2.0</td>\n",
       "      <td>2.0</td>\n",
       "      <td>1</td>\n",
       "    </tr>\n",
       "    <tr>\n",
       "      <th>...</th>\n",
       "      <td>...</td>\n",
       "      <td>...</td>\n",
       "      <td>...</td>\n",
       "      <td>...</td>\n",
       "      <td>...</td>\n",
       "      <td>...</td>\n",
       "      <td>...</td>\n",
       "      <td>...</td>\n",
       "      <td>...</td>\n",
       "      <td>...</td>\n",
       "      <td>...</td>\n",
       "      <td>...</td>\n",
       "    </tr>\n",
       "    <tr>\n",
       "      <th>7808</th>\n",
       "      <td>1.0</td>\n",
       "      <td>35.0</td>\n",
       "      <td>3.0</td>\n",
       "      <td>2.0</td>\n",
       "      <td>3.0</td>\n",
       "      <td>2.0</td>\n",
       "      <td>3.0</td>\n",
       "      <td>4.0</td>\n",
       "      <td>3.0</td>\n",
       "      <td>3.0</td>\n",
       "      <td>2.0</td>\n",
       "      <td>1</td>\n",
       "    </tr>\n",
       "    <tr>\n",
       "      <th>7809</th>\n",
       "      <td>1.0</td>\n",
       "      <td>53.0</td>\n",
       "      <td>2.0</td>\n",
       "      <td>1.0</td>\n",
       "      <td>2.0</td>\n",
       "      <td>1.0</td>\n",
       "      <td>2.0</td>\n",
       "      <td>1.0</td>\n",
       "      <td>1.0</td>\n",
       "      <td>2.0</td>\n",
       "      <td>2.0</td>\n",
       "      <td>0</td>\n",
       "    </tr>\n",
       "    <tr>\n",
       "      <th>7810</th>\n",
       "      <td>2.0</td>\n",
       "      <td>39.0</td>\n",
       "      <td>1.0</td>\n",
       "      <td>1.0</td>\n",
       "      <td>1.0</td>\n",
       "      <td>1.0</td>\n",
       "      <td>1.0</td>\n",
       "      <td>2.0</td>\n",
       "      <td>5.0</td>\n",
       "      <td>2.0</td>\n",
       "      <td>1.0</td>\n",
       "      <td>0</td>\n",
       "    </tr>\n",
       "    <tr>\n",
       "      <th>7811</th>\n",
       "      <td>2.0</td>\n",
       "      <td>75.0</td>\n",
       "      <td>1.0</td>\n",
       "      <td>1.0</td>\n",
       "      <td>1.0</td>\n",
       "      <td>5.0</td>\n",
       "      <td>1.0</td>\n",
       "      <td>1.0</td>\n",
       "      <td>1.0</td>\n",
       "      <td>3.0</td>\n",
       "      <td>1.0</td>\n",
       "      <td>0</td>\n",
       "    </tr>\n",
       "    <tr>\n",
       "      <th>7812</th>\n",
       "      <td>2.0</td>\n",
       "      <td>46.0</td>\n",
       "      <td>1.0</td>\n",
       "      <td>1.0</td>\n",
       "      <td>1.0</td>\n",
       "      <td>1.0</td>\n",
       "      <td>1.0</td>\n",
       "      <td>1.0</td>\n",
       "      <td>1.0</td>\n",
       "      <td>2.0</td>\n",
       "      <td>1.0</td>\n",
       "      <td>0</td>\n",
       "    </tr>\n",
       "  </tbody>\n",
       "</table>\n",
       "<p>7647 rows × 12 columns</p>\n",
       "</div>"
      ],
      "text/plain": [
       "      Q2a   Q2b  Q87a  Q87b  Q87c  Q87d  Q87e  Q90a  Q90b  Q90c  Q90f  Cluster\n",
       "0     1.0  63.0   3.0   3.0   3.0   3.0   3.0   2.0   2.0   2.0   2.0        1\n",
       "1     2.0  58.0   2.0   3.0   2.0   3.0   2.0   2.0   3.0   2.0   2.0        1\n",
       "2     2.0  32.0   2.0   2.0   3.0   2.0   3.0   2.0   2.0   2.0   2.0        1\n",
       "3     1.0  35.0   3.0   2.0   2.0   2.0   3.0   2.0   2.0   2.0   2.0        1\n",
       "4     2.0  27.0   2.0   2.0   3.0   3.0   2.0   2.0   4.0   2.0   2.0        1\n",
       "...   ...   ...   ...   ...   ...   ...   ...   ...   ...   ...   ...      ...\n",
       "7808  1.0  35.0   3.0   2.0   3.0   2.0   3.0   4.0   3.0   3.0   2.0        1\n",
       "7809  1.0  53.0   2.0   1.0   2.0   1.0   2.0   1.0   1.0   2.0   2.0        0\n",
       "7810  2.0  39.0   1.0   1.0   1.0   1.0   1.0   2.0   5.0   2.0   1.0        0\n",
       "7811  2.0  75.0   1.0   1.0   1.0   5.0   1.0   1.0   1.0   3.0   1.0        0\n",
       "7812  2.0  46.0   1.0   1.0   1.0   1.0   1.0   1.0   1.0   2.0   1.0        0\n",
       "\n",
       "[7647 rows x 12 columns]"
      ]
     },
     "execution_count": 22,
     "metadata": {},
     "output_type": "execute_result"
    }
   ],
   "source": [
    "data"
   ]
  },
  {
   "cell_type": "code",
   "execution_count": null,
   "metadata": {},
   "outputs": [],
   "source": []
  },
  {
   "cell_type": "code",
   "execution_count": 27,
   "metadata": {},
   "outputs": [
    {
     "ename": "ValueError",
     "evalue": "arrays must all be same length",
     "output_type": "error",
     "traceback": [
      "\u001b[1;31m---------------------------------------------------------------------------\u001b[0m",
      "\u001b[1;31mValueError\u001b[0m                                Traceback (most recent call last)",
      "\u001b[1;32m<ipython-input-27-3ef1a911031a>\u001b[0m in \u001b[0;36m<module>\u001b[1;34m\u001b[0m\n\u001b[0;32m      1\u001b[0m \u001b[1;32mfor\u001b[0m \u001b[0mi\u001b[0m \u001b[1;32min\u001b[0m \u001b[0mrange\u001b[0m\u001b[1;33m(\u001b[0m\u001b[1;36m0\u001b[0m\u001b[1;33m,\u001b[0m\u001b[1;36m2\u001b[0m\u001b[1;33m)\u001b[0m\u001b[1;33m:\u001b[0m\u001b[1;33m\u001b[0m\u001b[1;33m\u001b[0m\u001b[0m\n\u001b[0;32m      2\u001b[0m     \u001b[0mcluster\u001b[0m\u001b[1;33m=\u001b[0m\u001b[0mdata\u001b[0m\u001b[1;33m[\u001b[0m\u001b[0mdata\u001b[0m\u001b[1;33m.\u001b[0m\u001b[0mCluster\u001b[0m\u001b[1;33m==\u001b[0m\u001b[0mi\u001b[0m\u001b[1;33m]\u001b[0m\u001b[1;33m.\u001b[0m\u001b[0mdrop\u001b[0m\u001b[1;33m(\u001b[0m\u001b[0mcolumns\u001b[0m\u001b[1;33m=\u001b[0m\u001b[1;33m{\u001b[0m\u001b[1;34m\"Cluster\"\u001b[0m\u001b[1;33m,\u001b[0m\u001b[1;34m\"Q2b\"\u001b[0m\u001b[1;33m}\u001b[0m\u001b[1;33m)\u001b[0m\u001b[1;33m\u001b[0m\u001b[1;33m\u001b[0m\u001b[0m\n\u001b[1;32m----> 3\u001b[1;33m     \u001b[0mpd\u001b[0m\u001b[1;33m.\u001b[0m\u001b[0mcrosstab\u001b[0m\u001b[1;33m(\u001b[0m\u001b[0mcluster\u001b[0m\u001b[1;33m.\u001b[0m\u001b[0mQ87b\u001b[0m\u001b[1;33m.\u001b[0m\u001b[0munique\u001b[0m\u001b[1;33m(\u001b[0m\u001b[1;33m)\u001b[0m\u001b[1;33m,\u001b[0m\u001b[0mcluster\u001b[0m\u001b[1;33m.\u001b[0m\u001b[0mcolumns\u001b[0m\u001b[1;33m)\u001b[0m\u001b[1;33m\u001b[0m\u001b[1;33m\u001b[0m\u001b[0m\n\u001b[0m\u001b[0;32m      4\u001b[0m     \u001b[0mdisplay\u001b[0m\u001b[1;33m(\u001b[0m\u001b[0mcluster\u001b[0m\u001b[1;33m.\u001b[0m\u001b[0mdescribe\u001b[0m\u001b[1;33m(\u001b[0m\u001b[1;33m)\u001b[0m\u001b[1;33m)\u001b[0m\u001b[1;33m\u001b[0m\u001b[1;33m\u001b[0m\u001b[0m\n",
      "\u001b[1;32mC:\\ProgramData\\Anaconda3\\lib\\site-packages\\pandas\\core\\reshape\\pivot.py\u001b[0m in \u001b[0;36mcrosstab\u001b[1;34m(index, columns, values, rownames, colnames, aggfunc, margins, margins_name, dropna, normalize)\u001b[0m\n\u001b[0;32m    604\u001b[0m     \u001b[1;32mfrom\u001b[0m \u001b[0mpandas\u001b[0m \u001b[1;32mimport\u001b[0m \u001b[0mDataFrame\u001b[0m\u001b[1;33m\u001b[0m\u001b[1;33m\u001b[0m\u001b[0m\n\u001b[0;32m    605\u001b[0m \u001b[1;33m\u001b[0m\u001b[0m\n\u001b[1;32m--> 606\u001b[1;33m     \u001b[0mdf\u001b[0m \u001b[1;33m=\u001b[0m \u001b[0mDataFrame\u001b[0m\u001b[1;33m(\u001b[0m\u001b[0mdata\u001b[0m\u001b[1;33m,\u001b[0m \u001b[0mindex\u001b[0m\u001b[1;33m=\u001b[0m\u001b[0mcommon_idx\u001b[0m\u001b[1;33m)\u001b[0m\u001b[1;33m\u001b[0m\u001b[1;33m\u001b[0m\u001b[0m\n\u001b[0m\u001b[0;32m    607\u001b[0m     \u001b[0moriginal_df_cols\u001b[0m \u001b[1;33m=\u001b[0m \u001b[0mdf\u001b[0m\u001b[1;33m.\u001b[0m\u001b[0mcolumns\u001b[0m\u001b[1;33m\u001b[0m\u001b[1;33m\u001b[0m\u001b[0m\n\u001b[0;32m    608\u001b[0m \u001b[1;33m\u001b[0m\u001b[0m\n",
      "\u001b[1;32mC:\\ProgramData\\Anaconda3\\lib\\site-packages\\pandas\\core\\frame.py\u001b[0m in \u001b[0;36m__init__\u001b[1;34m(self, data, index, columns, dtype, copy)\u001b[0m\n\u001b[0;32m    466\u001b[0m \u001b[1;33m\u001b[0m\u001b[0m\n\u001b[0;32m    467\u001b[0m         \u001b[1;32melif\u001b[0m \u001b[0misinstance\u001b[0m\u001b[1;33m(\u001b[0m\u001b[0mdata\u001b[0m\u001b[1;33m,\u001b[0m \u001b[0mdict\u001b[0m\u001b[1;33m)\u001b[0m\u001b[1;33m:\u001b[0m\u001b[1;33m\u001b[0m\u001b[1;33m\u001b[0m\u001b[0m\n\u001b[1;32m--> 468\u001b[1;33m             \u001b[0mmgr\u001b[0m \u001b[1;33m=\u001b[0m \u001b[0minit_dict\u001b[0m\u001b[1;33m(\u001b[0m\u001b[0mdata\u001b[0m\u001b[1;33m,\u001b[0m \u001b[0mindex\u001b[0m\u001b[1;33m,\u001b[0m \u001b[0mcolumns\u001b[0m\u001b[1;33m,\u001b[0m \u001b[0mdtype\u001b[0m\u001b[1;33m=\u001b[0m\u001b[0mdtype\u001b[0m\u001b[1;33m)\u001b[0m\u001b[1;33m\u001b[0m\u001b[1;33m\u001b[0m\u001b[0m\n\u001b[0m\u001b[0;32m    469\u001b[0m         \u001b[1;32melif\u001b[0m \u001b[0misinstance\u001b[0m\u001b[1;33m(\u001b[0m\u001b[0mdata\u001b[0m\u001b[1;33m,\u001b[0m \u001b[0mma\u001b[0m\u001b[1;33m.\u001b[0m\u001b[0mMaskedArray\u001b[0m\u001b[1;33m)\u001b[0m\u001b[1;33m:\u001b[0m\u001b[1;33m\u001b[0m\u001b[1;33m\u001b[0m\u001b[0m\n\u001b[0;32m    470\u001b[0m             \u001b[1;32mimport\u001b[0m \u001b[0mnumpy\u001b[0m\u001b[1;33m.\u001b[0m\u001b[0mma\u001b[0m\u001b[1;33m.\u001b[0m\u001b[0mmrecords\u001b[0m \u001b[1;32mas\u001b[0m \u001b[0mmrecords\u001b[0m\u001b[1;33m\u001b[0m\u001b[1;33m\u001b[0m\u001b[0m\n",
      "\u001b[1;32mC:\\ProgramData\\Anaconda3\\lib\\site-packages\\pandas\\core\\internals\\construction.py\u001b[0m in \u001b[0;36minit_dict\u001b[1;34m(data, index, columns, dtype)\u001b[0m\n\u001b[0;32m    281\u001b[0m             \u001b[0marr\u001b[0m \u001b[1;32mif\u001b[0m \u001b[1;32mnot\u001b[0m \u001b[0mis_datetime64tz_dtype\u001b[0m\u001b[1;33m(\u001b[0m\u001b[0marr\u001b[0m\u001b[1;33m)\u001b[0m \u001b[1;32melse\u001b[0m \u001b[0marr\u001b[0m\u001b[1;33m.\u001b[0m\u001b[0mcopy\u001b[0m\u001b[1;33m(\u001b[0m\u001b[1;33m)\u001b[0m \u001b[1;32mfor\u001b[0m \u001b[0marr\u001b[0m \u001b[1;32min\u001b[0m \u001b[0marrays\u001b[0m\u001b[1;33m\u001b[0m\u001b[1;33m\u001b[0m\u001b[0m\n\u001b[0;32m    282\u001b[0m         ]\n\u001b[1;32m--> 283\u001b[1;33m     \u001b[1;32mreturn\u001b[0m \u001b[0marrays_to_mgr\u001b[0m\u001b[1;33m(\u001b[0m\u001b[0marrays\u001b[0m\u001b[1;33m,\u001b[0m \u001b[0mdata_names\u001b[0m\u001b[1;33m,\u001b[0m \u001b[0mindex\u001b[0m\u001b[1;33m,\u001b[0m \u001b[0mcolumns\u001b[0m\u001b[1;33m,\u001b[0m \u001b[0mdtype\u001b[0m\u001b[1;33m=\u001b[0m\u001b[0mdtype\u001b[0m\u001b[1;33m)\u001b[0m\u001b[1;33m\u001b[0m\u001b[1;33m\u001b[0m\u001b[0m\n\u001b[0m\u001b[0;32m    284\u001b[0m \u001b[1;33m\u001b[0m\u001b[0m\n\u001b[0;32m    285\u001b[0m \u001b[1;33m\u001b[0m\u001b[0m\n",
      "\u001b[1;32mC:\\ProgramData\\Anaconda3\\lib\\site-packages\\pandas\\core\\internals\\construction.py\u001b[0m in \u001b[0;36marrays_to_mgr\u001b[1;34m(arrays, arr_names, index, columns, dtype, verify_integrity)\u001b[0m\n\u001b[0;32m     76\u001b[0m         \u001b[1;31m# figure out the index, if necessary\u001b[0m\u001b[1;33m\u001b[0m\u001b[1;33m\u001b[0m\u001b[1;33m\u001b[0m\u001b[0m\n\u001b[0;32m     77\u001b[0m         \u001b[1;32mif\u001b[0m \u001b[0mindex\u001b[0m \u001b[1;32mis\u001b[0m \u001b[1;32mNone\u001b[0m\u001b[1;33m:\u001b[0m\u001b[1;33m\u001b[0m\u001b[1;33m\u001b[0m\u001b[0m\n\u001b[1;32m---> 78\u001b[1;33m             \u001b[0mindex\u001b[0m \u001b[1;33m=\u001b[0m \u001b[0mextract_index\u001b[0m\u001b[1;33m(\u001b[0m\u001b[0marrays\u001b[0m\u001b[1;33m)\u001b[0m\u001b[1;33m\u001b[0m\u001b[1;33m\u001b[0m\u001b[0m\n\u001b[0m\u001b[0;32m     79\u001b[0m         \u001b[1;32melse\u001b[0m\u001b[1;33m:\u001b[0m\u001b[1;33m\u001b[0m\u001b[1;33m\u001b[0m\u001b[0m\n\u001b[0;32m     80\u001b[0m             \u001b[0mindex\u001b[0m \u001b[1;33m=\u001b[0m \u001b[0mensure_index\u001b[0m\u001b[1;33m(\u001b[0m\u001b[0mindex\u001b[0m\u001b[1;33m)\u001b[0m\u001b[1;33m\u001b[0m\u001b[1;33m\u001b[0m\u001b[0m\n",
      "\u001b[1;32mC:\\ProgramData\\Anaconda3\\lib\\site-packages\\pandas\\core\\internals\\construction.py\u001b[0m in \u001b[0;36mextract_index\u001b[1;34m(data)\u001b[0m\n\u001b[0;32m    395\u001b[0m             \u001b[0mlengths\u001b[0m \u001b[1;33m=\u001b[0m \u001b[0mlist\u001b[0m\u001b[1;33m(\u001b[0m\u001b[0mset\u001b[0m\u001b[1;33m(\u001b[0m\u001b[0mraw_lengths\u001b[0m\u001b[1;33m)\u001b[0m\u001b[1;33m)\u001b[0m\u001b[1;33m\u001b[0m\u001b[1;33m\u001b[0m\u001b[0m\n\u001b[0;32m    396\u001b[0m             \u001b[1;32mif\u001b[0m \u001b[0mlen\u001b[0m\u001b[1;33m(\u001b[0m\u001b[0mlengths\u001b[0m\u001b[1;33m)\u001b[0m \u001b[1;33m>\u001b[0m \u001b[1;36m1\u001b[0m\u001b[1;33m:\u001b[0m\u001b[1;33m\u001b[0m\u001b[1;33m\u001b[0m\u001b[0m\n\u001b[1;32m--> 397\u001b[1;33m                 \u001b[1;32mraise\u001b[0m \u001b[0mValueError\u001b[0m\u001b[1;33m(\u001b[0m\u001b[1;34m\"arrays must all be same length\"\u001b[0m\u001b[1;33m)\u001b[0m\u001b[1;33m\u001b[0m\u001b[1;33m\u001b[0m\u001b[0m\n\u001b[0m\u001b[0;32m    398\u001b[0m \u001b[1;33m\u001b[0m\u001b[0m\n\u001b[0;32m    399\u001b[0m             \u001b[1;32mif\u001b[0m \u001b[0mhave_dicts\u001b[0m\u001b[1;33m:\u001b[0m\u001b[1;33m\u001b[0m\u001b[1;33m\u001b[0m\u001b[0m\n",
      "\u001b[1;31mValueError\u001b[0m: arrays must all be same length"
     ]
    }
   ],
   "source": [
    "for i in range(0,2):\n",
    "    cluster=data[data.Cluster==i].drop(columns={\"Cluster\",\"Q2b\"})\n",
    "    pd.crosstab(cluster.Q87b.unique(),cluster.columns)\n",
    "    display(cluster.describe())"
   ]
  },
  {
   "attachments": {
    "image.png": {
     "image/png": "[encoded data removed]"
    }
   },
   "cell_type": "markdown",
   "metadata": {},
   "source": [
    "![image.png](attachment:image.png)"
   ]
  },
  {
   "cell_type": "markdown",
   "metadata": {},
   "source": [
    "<b>Questions-</b>\n",
    "- Gender\n",
    "- Age\n",
    "- I have felt cheerful and in good spirits\n",
    "- I have felt calm and relaxed\n",
    "- I have felt active and vigorous\n",
    "- I woke up feeling fresh and rested\n",
    "- My daily life has been filled with things that interest me\n",
    "- At my work I feel full of energy\n",
    "- I am enthusiastic about my job\n",
    "- Time flies when I am working\n",
    "- In my opinion, I am good at my job"
   ]
  },
  {
   "cell_type": "code",
   "execution_count": 24,
   "metadata": {},
   "outputs": [
    {
     "ename": "NameError",
     "evalue": "name 'cluster_0' is not defined",
     "output_type": "error",
     "traceback": [
      "\u001b[1;31m---------------------------------------------------------------------------\u001b[0m",
      "\u001b[1;31mNameError\u001b[0m                                 Traceback (most recent call last)",
      "\u001b[1;32m<ipython-input-24-c7855d964075>\u001b[0m in \u001b[0;36m<module>\u001b[1;34m\u001b[0m\n\u001b[1;32m----> 1\u001b[1;33m \u001b[0mcluster_0\u001b[0m\u001b[1;33m.\u001b[0m\u001b[0mdescribe\u001b[0m\u001b[1;33m(\u001b[0m\u001b[1;33m)\u001b[0m\u001b[1;33m\u001b[0m\u001b[1;33m\u001b[0m\u001b[0m\n\u001b[0m",
      "\u001b[1;31mNameError\u001b[0m: name 'cluster_0' is not defined"
     ]
    }
   ],
   "source": [
    "cluster_0.describe()"
   ]
  },
  {
   "cell_type": "code",
   "execution_count": 52,
   "metadata": {},
   "outputs": [
    {
     "data": {
      "text/plain": [
       "0       3\n",
       "1       2\n",
       "9       3\n",
       "13      2\n",
       "20      5\n",
       "       ..\n",
       "7803    3\n",
       "7805    2\n",
       "7809    2\n",
       "7811    1\n",
       "7812    1\n",
       "Name: Q87a, Length: 3915, dtype: int64"
      ]
     },
     "execution_count": 52,
     "metadata": {},
     "output_type": "execute_result"
    }
   ],
   "source": [
    "cluster_0.Q87a"
   ]
  },
  {
   "cell_type": "code",
   "execution_count": 39,
   "metadata": {},
   "outputs": [],
   "source": [
    "# kmedoids = KMedoids(n_clusters = 3)\n",
    "# kmedoids.fit(data_scaled)\n",
    "# pred = kmedoids.predict(data_scaled)"
   ]
  },
  {
   "cell_type": "code",
   "execution_count": 40,
   "metadata": {},
   "outputs": [
    {
     "data": {
      "text/plain": [
       "1    2956\n",
       "0    2496\n",
       "2    2361\n",
       "dtype: int64"
      ]
     },
     "execution_count": 40,
     "metadata": {},
     "output_type": "execute_result"
    }
   ],
   "source": [
    "# pd.Series(pred).value_counts()"
   ]
  },
  {
   "cell_type": "code",
   "execution_count": null,
   "metadata": {},
   "outputs": [],
   "source": []
  }
 ],
 "metadata": {
  "kernelspec": {
   "display_name": "Python 3",
   "language": "python",
   "name": "python3"
  },
  "language_info": {
   "codemirror_mode": {
    "name": "ipython",
    "version": 3
   },
   "file_extension": ".py",
   "mimetype": "text/x-python",
   "name": "python",
   "nbconvert_exporter": "python",
   "pygments_lexer": "ipython3",
   "version": "3.7.9"
  }
 },
 "nbformat": 4,
 "nbformat_minor": 4
}
